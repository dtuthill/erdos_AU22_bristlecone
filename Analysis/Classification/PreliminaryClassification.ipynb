{
 "cells": [
  {
   "cell_type": "markdown",
   "id": "8b15996b",
   "metadata": {},
   "source": [
    "# Early Models\n",
    "\n",
    "This notebook will primarily focus on looking at a collection of simpler classification models using the combined collisions/traffic flow dataset."
   ]
  },
  {
   "cell_type": "markdown",
   "id": "88795d7d",
   "metadata": {},
   "source": [
    "Import all the basics that might be used for data manipulation and plotting:"
   ]
  },
  {
   "cell_type": "code",
   "execution_count": 2,
   "id": "17231c82",
   "metadata": {},
   "outputs": [],
   "source": [
    "import pandas as pd\n",
    "import numpy as np\n",
    "import matplotlib.pyplot as plt\n",
    "import seaborn as sns\n",
    "\n",
    "sns.set_style(\"darkgrid\")"
   ]
  },
  {
   "cell_type": "markdown",
   "id": "b2b076fd",
   "metadata": {},
   "source": [
    "##### 0. Importing and cleaning the data"
   ]
  },
  {
   "cell_type": "markdown",
   "id": "4d8c752b",
   "metadata": {},
   "source": [
    "Import the data saved after using the `geomatch` notebook in the `Dataframe_creation` folder:"
   ]
  },
  {
   "cell_type": "code",
   "execution_count": 3,
   "id": "4c939f2b",
   "metadata": {},
   "outputs": [],
   "source": [
    "## Read in the data with traffic counter and\n",
    "## bike feature information matched\n",
    "data_raw = pd.read_csv('../../Dataframe_creation/Dataframes/combined_collisions_v3.csv')"
   ]
  },
  {
   "cell_type": "code",
   "execution_count": 62,
   "id": "9e29d7e5",
   "metadata": {},
   "outputs": [],
   "source": [
    "## Features to ignore when dropping NaN values\n",
    "## because only the traffic counter data should\n",
    "## be required to match accident data\n",
    "bike_features = ['aadf_FEATURE_ID', 'aadf_SVDATE', 'aadf_CLT_CARR', \n",
    "                     'aadf_CLT_SEGREG', 'aadf_CLT_STEPP', 'aadf_CLT_PARSEG',\n",
    "                     'aadf_CLT_SHARED', 'aadf_CLT_MANDAT', 'aadf_CLT_ADVIS',\n",
    "                     'aadf_CLT_PRIORI', 'aadf_CLT_CONTRA', 'aadf_CLT_BIDIRE',\n",
    "                     'aadf_CLT_CBYPAS', 'aadf_CLT_BBYPAS', 'aadf_CLT_PARKR',\n",
    "                     'aadf_CLT_WATERR', 'aadf_CLT_PTIME', 'aadf_CLT_ACCESS',\n",
    "                     'aadf_CLT_COLOUR', 'aadf_BOROUGH']"
   ]
  },
  {
   "cell_type": "code",
   "execution_count": 63,
   "id": "209e565c",
   "metadata": {},
   "outputs": [],
   "source": [
    "## Dropping NaN values and dummy columns\n",
    "## and restricting the data to Greater London\n",
    "data = data_raw.dropna(subset=[column for column in data_raw.columns if column not in bike_features]).copy()\n",
    "data.drop(columns='Unnamed: 0',inplace=True)\n",
    "data = data.loc[data.in_london == True]\n",
    "## This should be redundant, but running\n",
    "## to make sure anyway\n",
    "data = data.loc[data.match == True]\n",
    "\n",
    "## Some extra cleaning of additional columns\n",
    "def is_str(x):\n",
    "    Nx = len(x)\n",
    "    I = np.ones(Nx).astype(bool)\n",
    "    for ii in range(Nx):\n",
    "        if type(x[ii]) != str:\n",
    "            I[ii] = False\n",
    "    return I\n",
    "\n",
    "data = data.loc[is_str(data.Time.values),:]\n",
    "data.aadf_Count_point_id = data.aadf_Count_point_id.values.astype(int)"
   ]
  },
  {
   "cell_type": "markdown",
   "id": "596aebfb",
   "metadata": {},
   "source": [
    "For now, we will ignore any additional time columns and neighborhood work from the `BuildRoadDataframe_v3` because it gets transformed when summing and the mode is taken anyway, making them virtually meaningless columns. We cannot fully use this notebook since it sums rows, resulting in the loss of the `Accident_Severity` column. We will, however, pull some of the cleaning and manipulation from the notebook here."
   ]
  },
  {
   "cell_type": "code",
   "execution_count": 64,
   "id": "7549d289",
   "metadata": {},
   "outputs": [
    {
     "data": {
      "text/html": [
       "<div>\n",
       "<style scoped>\n",
       "    .dataframe tbody tr th:only-of-type {\n",
       "        vertical-align: middle;\n",
       "    }\n",
       "\n",
       "    .dataframe tbody tr th {\n",
       "        vertical-align: top;\n",
       "    }\n",
       "\n",
       "    .dataframe thead th {\n",
       "        text-align: right;\n",
       "    }\n",
       "</style>\n",
       "<table border=\"1\" class=\"dataframe\">\n",
       "  <thead>\n",
       "    <tr style=\"text-align: right;\">\n",
       "      <th></th>\n",
       "      <th>Accident_Index</th>\n",
       "      <th>Location_Easting_OSGR</th>\n",
       "      <th>Location_Northing_OSGR</th>\n",
       "      <th>Longitude</th>\n",
       "      <th>Latitude</th>\n",
       "      <th>Police_Force</th>\n",
       "      <th>Accident_Severity</th>\n",
       "      <th>Number_of_Vehicles</th>\n",
       "      <th>Number_of_Casualties</th>\n",
       "      <th>Date</th>\n",
       "      <th>...</th>\n",
       "      <th>aadf_CLT_BBYPAS</th>\n",
       "      <th>aadf_CLT_PARKR</th>\n",
       "      <th>aadf_CLT_WATERR</th>\n",
       "      <th>aadf_CLT_PTIME</th>\n",
       "      <th>aadf_CLT_ACCESS</th>\n",
       "      <th>aadf_CLT_COLOUR</th>\n",
       "      <th>aadf_BOROUGH</th>\n",
       "      <th>distance_to_cp</th>\n",
       "      <th>match</th>\n",
       "      <th>bikelane</th>\n",
       "    </tr>\n",
       "  </thead>\n",
       "  <tbody>\n",
       "    <tr>\n",
       "      <th>183563</th>\n",
       "      <td>201501HT20532</td>\n",
       "      <td>538260.0</td>\n",
       "      <td>179740.0</td>\n",
       "      <td>-0.009521</td>\n",
       "      <td>51.499696</td>\n",
       "      <td>1</td>\n",
       "      <td>3</td>\n",
       "      <td>2</td>\n",
       "      <td>1</td>\n",
       "      <td>2015-06-18</td>\n",
       "      <td>...</td>\n",
       "      <td>False</td>\n",
       "      <td>True</td>\n",
       "      <td>False</td>\n",
       "      <td>False</td>\n",
       "      <td>NaN</td>\n",
       "      <td>[['NONE']]</td>\n",
       "      <td>[['Tower Hamlets']]</td>\n",
       "      <td>0.545429</td>\n",
       "      <td>True</td>\n",
       "      <td>True</td>\n",
       "    </tr>\n",
       "    <tr>\n",
       "      <th>87670</th>\n",
       "      <td>201001YR90206</td>\n",
       "      <td>533120.0</td>\n",
       "      <td>190740.0</td>\n",
       "      <td>-0.079345</td>\n",
       "      <td>51.599726</td>\n",
       "      <td>1</td>\n",
       "      <td>3</td>\n",
       "      <td>2</td>\n",
       "      <td>1</td>\n",
       "      <td>2010-03-23</td>\n",
       "      <td>...</td>\n",
       "      <td>False</td>\n",
       "      <td>False</td>\n",
       "      <td>False</td>\n",
       "      <td>False</td>\n",
       "      <td>NaN</td>\n",
       "      <td>[['GREEN', 'GREEN', 'GREEN', 'GREEN']]</td>\n",
       "      <td>[['Haringey', 'Haringey', 'Haringey', 'Haringe...</td>\n",
       "      <td>0.085724</td>\n",
       "      <td>True</td>\n",
       "      <td>True</td>\n",
       "    </tr>\n",
       "    <tr>\n",
       "      <th>101851</th>\n",
       "      <td>201101CW11582</td>\n",
       "      <td>528200.0</td>\n",
       "      <td>181050.0</td>\n",
       "      <td>-0.153873</td>\n",
       "      <td>51.513784</td>\n",
       "      <td>1</td>\n",
       "      <td>2</td>\n",
       "      <td>2</td>\n",
       "      <td>1</td>\n",
       "      <td>2011-08-22</td>\n",
       "      <td>...</td>\n",
       "      <td>False</td>\n",
       "      <td>False</td>\n",
       "      <td>False</td>\n",
       "      <td>True</td>\n",
       "      <td>NaN</td>\n",
       "      <td>[['NONE', 'NONE']]</td>\n",
       "      <td>[['Westminster', 'Westminster']]</td>\n",
       "      <td>0.032099</td>\n",
       "      <td>True</td>\n",
       "      <td>True</td>\n",
       "    </tr>\n",
       "    <tr>\n",
       "      <th>185279</th>\n",
       "      <td>201501TW60269</td>\n",
       "      <td>518820.0</td>\n",
       "      <td>176900.0</td>\n",
       "      <td>-0.290397</td>\n",
       "      <td>51.478588</td>\n",
       "      <td>1</td>\n",
       "      <td>3</td>\n",
       "      <td>3</td>\n",
       "      <td>1</td>\n",
       "      <td>2015-08-08</td>\n",
       "      <td>...</td>\n",
       "      <td>False</td>\n",
       "      <td>False</td>\n",
       "      <td>False</td>\n",
       "      <td>True</td>\n",
       "      <td>NaN</td>\n",
       "      <td>[['NONE', 'NONE', 'NONE']]</td>\n",
       "      <td>[['Richmond upon Thames', 'Richmond upon Thame...</td>\n",
       "      <td>0.571906</td>\n",
       "      <td>True</td>\n",
       "      <td>True</td>\n",
       "    </tr>\n",
       "    <tr>\n",
       "      <th>160516</th>\n",
       "      <td>201401CP00335</td>\n",
       "      <td>531600.0</td>\n",
       "      <td>181340.0</td>\n",
       "      <td>-0.104795</td>\n",
       "      <td>51.515609</td>\n",
       "      <td>48</td>\n",
       "      <td>3</td>\n",
       "      <td>1</td>\n",
       "      <td>1</td>\n",
       "      <td>2014-08-14</td>\n",
       "      <td>...</td>\n",
       "      <td>False</td>\n",
       "      <td>False</td>\n",
       "      <td>False</td>\n",
       "      <td>False</td>\n",
       "      <td>NaN</td>\n",
       "      <td>[['NONE', 'NONE', 'NONE', 'NONE', 'NONE', 'NON...</td>\n",
       "      <td>[['City of London', 'City of London', 'City of...</td>\n",
       "      <td>0.041053</td>\n",
       "      <td>True</td>\n",
       "      <td>True</td>\n",
       "    </tr>\n",
       "  </tbody>\n",
       "</table>\n",
       "<p>5 rows × 99 columns</p>\n",
       "</div>"
      ],
      "text/plain": [
       "       Accident_Index  Location_Easting_OSGR  Location_Northing_OSGR  \\\n",
       "183563  201501HT20532               538260.0                179740.0   \n",
       "87670   201001YR90206               533120.0                190740.0   \n",
       "101851  201101CW11582               528200.0                181050.0   \n",
       "185279  201501TW60269               518820.0                176900.0   \n",
       "160516  201401CP00335               531600.0                181340.0   \n",
       "\n",
       "        Longitude   Latitude  Police_Force  Accident_Severity  \\\n",
       "183563  -0.009521  51.499696             1                  3   \n",
       "87670   -0.079345  51.599726             1                  3   \n",
       "101851  -0.153873  51.513784             1                  2   \n",
       "185279  -0.290397  51.478588             1                  3   \n",
       "160516  -0.104795  51.515609            48                  3   \n",
       "\n",
       "        Number_of_Vehicles  Number_of_Casualties        Date  ...  \\\n",
       "183563                   2                     1  2015-06-18  ...   \n",
       "87670                    2                     1  2010-03-23  ...   \n",
       "101851                   2                     1  2011-08-22  ...   \n",
       "185279                   3                     1  2015-08-08  ...   \n",
       "160516                   1                     1  2014-08-14  ...   \n",
       "\n",
       "        aadf_CLT_BBYPAS aadf_CLT_PARKR  aadf_CLT_WATERR aadf_CLT_PTIME  \\\n",
       "183563            False           True            False          False   \n",
       "87670             False          False            False          False   \n",
       "101851            False          False            False           True   \n",
       "185279            False          False            False           True   \n",
       "160516            False          False            False          False   \n",
       "\n",
       "        aadf_CLT_ACCESS                                    aadf_CLT_COLOUR  \\\n",
       "183563              NaN                                         [['NONE']]   \n",
       "87670               NaN             [['GREEN', 'GREEN', 'GREEN', 'GREEN']]   \n",
       "101851              NaN                                 [['NONE', 'NONE']]   \n",
       "185279              NaN                         [['NONE', 'NONE', 'NONE']]   \n",
       "160516              NaN  [['NONE', 'NONE', 'NONE', 'NONE', 'NONE', 'NON...   \n",
       "\n",
       "                                             aadf_BOROUGH  distance_to_cp  \\\n",
       "183563                                [['Tower Hamlets']]        0.545429   \n",
       "87670   [['Haringey', 'Haringey', 'Haringey', 'Haringe...        0.085724   \n",
       "101851                   [['Westminster', 'Westminster']]        0.032099   \n",
       "185279  [['Richmond upon Thames', 'Richmond upon Thame...        0.571906   \n",
       "160516  [['City of London', 'City of London', 'City of...        0.041053   \n",
       "\n",
       "        match  bikelane  \n",
       "183563   True      True  \n",
       "87670    True      True  \n",
       "101851   True      True  \n",
       "185279   True      True  \n",
       "160516   True      True  \n",
       "\n",
       "[5 rows x 99 columns]"
      ]
     },
     "execution_count": 64,
     "metadata": {},
     "output_type": "execute_result"
    }
   ],
   "source": [
    "Inolane = np.ones(data.shape[0]).astype(bool)\n",
    "for feature in bike_features:\n",
    "    Inolane &= (data[feature].values == False)\n",
    "    \n",
    "data['bikelane'] = ~Inolane\n",
    "\n",
    "data.sample(5)"
   ]
  },
  {
   "cell_type": "code",
   "execution_count": 65,
   "id": "143ff4b5",
   "metadata": {},
   "outputs": [
    {
     "data": {
      "text/plain": [
       "True    37044\n",
       "Name: bikelane, dtype: int64"
      ]
     },
     "execution_count": 65,
     "metadata": {},
     "output_type": "execute_result"
    }
   ],
   "source": [
    "data.bikelane.value_counts()"
   ]
  },
  {
   "cell_type": "code",
   "execution_count": 66,
   "id": "fb328d1a",
   "metadata": {},
   "outputs": [
    {
     "data": {
      "text/plain": [
       "aadf_FEATURE_ID     True\n",
       "aadf_SVDATE         True\n",
       "aadf_CLT_CARR       True\n",
       "aadf_CLT_SEGREG     True\n",
       "aadf_CLT_STEPP      True\n",
       "aadf_CLT_PARSEG     True\n",
       "aadf_CLT_SHARED     True\n",
       "aadf_CLT_MANDAT     True\n",
       "aadf_CLT_ADVIS      True\n",
       "aadf_CLT_PRIORI     True\n",
       "aadf_CLT_CONTRA     True\n",
       "aadf_CLT_BIDIRE     True\n",
       "aadf_CLT_CBYPAS     True\n",
       "aadf_CLT_BBYPAS     True\n",
       "aadf_CLT_PARKR      True\n",
       "aadf_CLT_WATERR     True\n",
       "aadf_CLT_PTIME      True\n",
       "aadf_CLT_ACCESS    False\n",
       "aadf_CLT_COLOUR     True\n",
       "aadf_BOROUGH        True\n",
       "dtype: bool"
      ]
     },
     "execution_count": 66,
     "metadata": {},
     "output_type": "execute_result"
    }
   ],
   "source": [
    "data[bike_features].any()"
   ]
  },
  {
   "cell_type": "markdown",
   "id": "44b51c75",
   "metadata": {},
   "source": [
    "Here, scaling the data is important because of the number of binary variables, which are naturally outweighed by the continuous ones without scaling."
   ]
  },
  {
   "cell_type": "code",
   "execution_count": 67,
   "id": "02b564f9",
   "metadata": {},
   "outputs": [],
   "source": [
    "## import StandardScaler\n",
    "from sklearn.preprocessing import StandardScaler"
   ]
  },
  {
   "cell_type": "code",
   "execution_count": 68,
   "id": "f4e17ccc",
   "metadata": {},
   "outputs": [],
   "source": [
    "## Make a scaler object\n",
    "scaler = StandardScaler()\n",
    "\n",
    "## fit the scaler\n",
    "data[['aadf_Pedal_cycles_scaled', 'aadf_All_motor_vehicles_scaled', 'distance_to_cp_scaled']] = scaler.fit_transform(data[['aadf_Pedal_cycles', 'aadf_All_motor_vehicles', 'distance_to_cp']])"
   ]
  },
  {
   "cell_type": "code",
   "execution_count": 69,
   "id": "62218ac7",
   "metadata": {},
   "outputs": [],
   "source": [
    "## Identify potential regression columns\n",
    "class_features = ['Longitude', 'Latitude', 'Day_of_Week',\n",
    "                    'Time', 'Road_Type', 'Speed_limit',\n",
    "                    'Light_Conditions', 'Weather_Conditions', 'Road_Surface_Conditions',\n",
    "                    'Special_Conditions_at_Site', 'Carriageway_Hazards', 'Urban_or_Rural_Area',\n",
    "                    'aadf_Year', 'aadf_Pedal_cycles', 'aadf_All_motor_vehicles',\n",
    "                    'aadf_CLT_CARR', 'aadf_CLT_SEGREG', 'aadf_CLT_STEPP', \n",
    "                    'aadf_CLT_PARSEG', 'aadf_CLT_SHARED', 'aadf_CLT_MANDAT',\n",
    "                    'aadf_CLT_ADVIS', 'aadf_CLT_PRIORI', 'aadf_CLT_CONTRA', \n",
    "                    'aadf_CLT_BIDIRE', 'aadf_CLT_CBYPAS', 'aadf_CLT_BBYPAS', \n",
    "                    'aadf_CLT_PARKR', 'aadf_CLT_WATERR', 'aadf_CLT_PTIME', \n",
    "                    'aadf_CLT_ACCESS', 'distance_to_cp']"
   ]
  },
  {
   "cell_type": "markdown",
   "id": "aaf103a4",
   "metadata": {},
   "source": [
    "Finally, make a train test split for preliminary regression to work on:"
   ]
  },
  {
   "cell_type": "code",
   "execution_count": 70,
   "id": "fc010f45",
   "metadata": {},
   "outputs": [],
   "source": [
    "## import train_test_split\n",
    "from sklearn.model_selection import train_test_split"
   ]
  },
  {
   "cell_type": "code",
   "execution_count": 71,
   "id": "df028387",
   "metadata": {},
   "outputs": [
    {
     "data": {
      "text/html": [
       "<div>\n",
       "<style scoped>\n",
       "    .dataframe tbody tr th:only-of-type {\n",
       "        vertical-align: middle;\n",
       "    }\n",
       "\n",
       "    .dataframe tbody tr th {\n",
       "        vertical-align: top;\n",
       "    }\n",
       "\n",
       "    .dataframe thead th {\n",
       "        text-align: right;\n",
       "    }\n",
       "</style>\n",
       "<table border=\"1\" class=\"dataframe\">\n",
       "  <thead>\n",
       "    <tr style=\"text-align: right;\">\n",
       "      <th></th>\n",
       "      <th>Accident_Index</th>\n",
       "      <th>Location_Easting_OSGR</th>\n",
       "      <th>Location_Northing_OSGR</th>\n",
       "      <th>Longitude</th>\n",
       "      <th>Latitude</th>\n",
       "      <th>Police_Force</th>\n",
       "      <th>Accident_Severity</th>\n",
       "      <th>Number_of_Vehicles</th>\n",
       "      <th>Number_of_Casualties</th>\n",
       "      <th>Date</th>\n",
       "      <th>...</th>\n",
       "      <th>aadf_CLT_PTIME</th>\n",
       "      <th>aadf_CLT_ACCESS</th>\n",
       "      <th>aadf_CLT_COLOUR</th>\n",
       "      <th>aadf_BOROUGH</th>\n",
       "      <th>distance_to_cp</th>\n",
       "      <th>match</th>\n",
       "      <th>bikelane</th>\n",
       "      <th>aadf_Pedal_cycles_scaled</th>\n",
       "      <th>aadf_All_motor_vehicles_scaled</th>\n",
       "      <th>distance_to_cp_scaled</th>\n",
       "    </tr>\n",
       "  </thead>\n",
       "  <tbody>\n",
       "    <tr>\n",
       "      <th>2</th>\n",
       "      <td>200501BS70004</td>\n",
       "      <td>524870.0</td>\n",
       "      <td>181880.0</td>\n",
       "      <td>-0.201543</td>\n",
       "      <td>51.521988</td>\n",
       "      <td>1</td>\n",
       "      <td>3</td>\n",
       "      <td>2</td>\n",
       "      <td>1</td>\n",
       "      <td>2005-03-02</td>\n",
       "      <td>...</td>\n",
       "      <td>False</td>\n",
       "      <td>NaN</td>\n",
       "      <td>[[]]</td>\n",
       "      <td>[[]]</td>\n",
       "      <td>0.154730</td>\n",
       "      <td>True</td>\n",
       "      <td>True</td>\n",
       "      <td>-0.325591</td>\n",
       "      <td>-0.513288</td>\n",
       "      <td>-0.188243</td>\n",
       "    </tr>\n",
       "    <tr>\n",
       "      <th>3</th>\n",
       "      <td>200501BS70009</td>\n",
       "      <td>525840.0</td>\n",
       "      <td>177020.0</td>\n",
       "      <td>-0.189301</td>\n",
       "      <td>51.478096</td>\n",
       "      <td>1</td>\n",
       "      <td>3</td>\n",
       "      <td>2</td>\n",
       "      <td>1</td>\n",
       "      <td>2005-03-02</td>\n",
       "      <td>...</td>\n",
       "      <td>False</td>\n",
       "      <td>NaN</td>\n",
       "      <td>[['NONE', 'NONE', 'NONE', 'NONE', 'NONE', 'NON...</td>\n",
       "      <td>[[None, None, 'Hammersmith &amp; Fulham', 'Hammers...</td>\n",
       "      <td>0.122721</td>\n",
       "      <td>True</td>\n",
       "      <td>True</td>\n",
       "      <td>0.947518</td>\n",
       "      <td>0.673221</td>\n",
       "      <td>-0.335638</td>\n",
       "    </tr>\n",
       "    <tr>\n",
       "      <th>5</th>\n",
       "      <td>200501BS70020</td>\n",
       "      <td>527020.0</td>\n",
       "      <td>179020.0</td>\n",
       "      <td>-0.171599</td>\n",
       "      <td>51.495806</td>\n",
       "      <td>1</td>\n",
       "      <td>3</td>\n",
       "      <td>2</td>\n",
       "      <td>1</td>\n",
       "      <td>2005-10-02</td>\n",
       "      <td>...</td>\n",
       "      <td>True</td>\n",
       "      <td>NaN</td>\n",
       "      <td>[['NONE']]</td>\n",
       "      <td>[['Kensington &amp; Chelsea']]</td>\n",
       "      <td>0.085581</td>\n",
       "      <td>True</td>\n",
       "      <td>True</td>\n",
       "      <td>-0.432457</td>\n",
       "      <td>1.693743</td>\n",
       "      <td>-0.506661</td>\n",
       "    </tr>\n",
       "    <tr>\n",
       "      <th>6</th>\n",
       "      <td>200501BS70027</td>\n",
       "      <td>525190.0</td>\n",
       "      <td>180500.0</td>\n",
       "      <td>-0.197423</td>\n",
       "      <td>51.509515</td>\n",
       "      <td>1</td>\n",
       "      <td>3</td>\n",
       "      <td>2</td>\n",
       "      <td>1</td>\n",
       "      <td>2005-02-17</td>\n",
       "      <td>...</td>\n",
       "      <td>False</td>\n",
       "      <td>NaN</td>\n",
       "      <td>[[]]</td>\n",
       "      <td>[[]]</td>\n",
       "      <td>0.353096</td>\n",
       "      <td>True</td>\n",
       "      <td>True</td>\n",
       "      <td>-0.772971</td>\n",
       "      <td>-1.270212</td>\n",
       "      <td>0.725209</td>\n",
       "    </tr>\n",
       "    <tr>\n",
       "      <th>7</th>\n",
       "      <td>200501BS70030</td>\n",
       "      <td>526360.0</td>\n",
       "      <td>177420.0</td>\n",
       "      <td>-0.181674</td>\n",
       "      <td>51.481575</td>\n",
       "      <td>1</td>\n",
       "      <td>3</td>\n",
       "      <td>2</td>\n",
       "      <td>1</td>\n",
       "      <td>2005-02-16</td>\n",
       "      <td>...</td>\n",
       "      <td>False</td>\n",
       "      <td>NaN</td>\n",
       "      <td>[['NONE', 'NONE', 'NONE', 'NONE', 'NONE']]</td>\n",
       "      <td>[['Kensington &amp; Chelsea', 'Kensington &amp; Chelse...</td>\n",
       "      <td>0.061657</td>\n",
       "      <td>True</td>\n",
       "      <td>True</td>\n",
       "      <td>-0.400597</td>\n",
       "      <td>-0.405460</td>\n",
       "      <td>-0.616829</td>\n",
       "    </tr>\n",
       "    <tr>\n",
       "      <th>...</th>\n",
       "      <td>...</td>\n",
       "      <td>...</td>\n",
       "      <td>...</td>\n",
       "      <td>...</td>\n",
       "      <td>...</td>\n",
       "      <td>...</td>\n",
       "      <td>...</td>\n",
       "      <td>...</td>\n",
       "      <td>...</td>\n",
       "      <td>...</td>\n",
       "      <td>...</td>\n",
       "      <td>...</td>\n",
       "      <td>...</td>\n",
       "      <td>...</td>\n",
       "      <td>...</td>\n",
       "      <td>...</td>\n",
       "      <td>...</td>\n",
       "      <td>...</td>\n",
       "      <td>...</td>\n",
       "      <td>...</td>\n",
       "      <td>...</td>\n",
       "    </tr>\n",
       "    <tr>\n",
       "      <th>248443</th>\n",
       "      <td>2018480820486</td>\n",
       "      <td>531384.0</td>\n",
       "      <td>181528.0</td>\n",
       "      <td>-0.107830</td>\n",
       "      <td>51.517404</td>\n",
       "      <td>48</td>\n",
       "      <td>3</td>\n",
       "      <td>1</td>\n",
       "      <td>1</td>\n",
       "      <td>2018-09-10</td>\n",
       "      <td>...</td>\n",
       "      <td>True</td>\n",
       "      <td>NaN</td>\n",
       "      <td>[['NONE', 'NONE', 'NONE', 'NONE', 'NONE']]</td>\n",
       "      <td>[['City of London', 'City of London', 'City of...</td>\n",
       "      <td>0.158715</td>\n",
       "      <td>True</td>\n",
       "      <td>True</td>\n",
       "      <td>-0.202793</td>\n",
       "      <td>-0.810446</td>\n",
       "      <td>-0.169890</td>\n",
       "    </tr>\n",
       "    <tr>\n",
       "      <th>248446</th>\n",
       "      <td>2018480820687</td>\n",
       "      <td>532724.0</td>\n",
       "      <td>181597.0</td>\n",
       "      <td>-0.088503</td>\n",
       "      <td>51.517711</td>\n",
       "      <td>48</td>\n",
       "      <td>3</td>\n",
       "      <td>2</td>\n",
       "      <td>1</td>\n",
       "      <td>2018-02-11</td>\n",
       "      <td>...</td>\n",
       "      <td>False</td>\n",
       "      <td>NaN</td>\n",
       "      <td>[['GREEN', 'NONE', 'NONE']]</td>\n",
       "      <td>[['City of London', 'Islington', 'City of Lond...</td>\n",
       "      <td>0.047618</td>\n",
       "      <td>True</td>\n",
       "      <td>True</td>\n",
       "      <td>0.607004</td>\n",
       "      <td>-0.649489</td>\n",
       "      <td>-0.681476</td>\n",
       "    </tr>\n",
       "    <tr>\n",
       "      <th>248449</th>\n",
       "      <td>2018480820747</td>\n",
       "      <td>531882.0</td>\n",
       "      <td>181369.0</td>\n",
       "      <td>-0.100717</td>\n",
       "      <td>51.515859</td>\n",
       "      <td>48</td>\n",
       "      <td>3</td>\n",
       "      <td>2</td>\n",
       "      <td>1</td>\n",
       "      <td>2018-10-31</td>\n",
       "      <td>...</td>\n",
       "      <td>False</td>\n",
       "      <td>NaN</td>\n",
       "      <td>[['NONE', 'NONE', 'NONE', 'NONE', 'NONE', 'NON...</td>\n",
       "      <td>[['City of London', 'City of London', 'City of...</td>\n",
       "      <td>0.021948</td>\n",
       "      <td>True</td>\n",
       "      <td>True</td>\n",
       "      <td>2.021495</td>\n",
       "      <td>0.223280</td>\n",
       "      <td>-0.799684</td>\n",
       "    </tr>\n",
       "    <tr>\n",
       "      <th>248452</th>\n",
       "      <td>2018480820779</td>\n",
       "      <td>531630.0</td>\n",
       "      <td>181180.0</td>\n",
       "      <td>-0.104417</td>\n",
       "      <td>51.514220</td>\n",
       "      <td>48</td>\n",
       "      <td>2</td>\n",
       "      <td>2</td>\n",
       "      <td>1</td>\n",
       "      <td>2018-12-14</td>\n",
       "      <td>...</td>\n",
       "      <td>False</td>\n",
       "      <td>NaN</td>\n",
       "      <td>[['NONE', 'NONE', 'NONE', 'NONE', 'NONE', 'NON...</td>\n",
       "      <td>[['City of London', 'City of London', 'City of...</td>\n",
       "      <td>0.087788</td>\n",
       "      <td>True</td>\n",
       "      <td>True</td>\n",
       "      <td>6.199920</td>\n",
       "      <td>1.389827</td>\n",
       "      <td>-0.496502</td>\n",
       "    </tr>\n",
       "    <tr>\n",
       "      <th>248453</th>\n",
       "      <td>2018480820789</td>\n",
       "      <td>533737.0</td>\n",
       "      <td>181258.0</td>\n",
       "      <td>-0.074041</td>\n",
       "      <td>51.514426</td>\n",
       "      <td>48</td>\n",
       "      <td>2</td>\n",
       "      <td>2</td>\n",
       "      <td>1</td>\n",
       "      <td>2018-12-15</td>\n",
       "      <td>...</td>\n",
       "      <td>False</td>\n",
       "      <td>NaN</td>\n",
       "      <td>[['BLUE', 'BLUE', 'BLUE', 'BLUE', 'BLUE', 'BLU...</td>\n",
       "      <td>[['Tower Hamlets', 'Tower Hamlets', 'Tower Ham...</td>\n",
       "      <td>0.059647</td>\n",
       "      <td>True</td>\n",
       "      <td>True</td>\n",
       "      <td>1.842278</td>\n",
       "      <td>0.003928</td>\n",
       "      <td>-0.626085</td>\n",
       "    </tr>\n",
       "  </tbody>\n",
       "</table>\n",
       "<p>37044 rows × 102 columns</p>\n",
       "</div>"
      ],
      "text/plain": [
       "       Accident_Index  Location_Easting_OSGR  Location_Northing_OSGR  \\\n",
       "2       200501BS70004               524870.0                181880.0   \n",
       "3       200501BS70009               525840.0                177020.0   \n",
       "5       200501BS70020               527020.0                179020.0   \n",
       "6       200501BS70027               525190.0                180500.0   \n",
       "7       200501BS70030               526360.0                177420.0   \n",
       "...               ...                    ...                     ...   \n",
       "248443  2018480820486               531384.0                181528.0   \n",
       "248446  2018480820687               532724.0                181597.0   \n",
       "248449  2018480820747               531882.0                181369.0   \n",
       "248452  2018480820779               531630.0                181180.0   \n",
       "248453  2018480820789               533737.0                181258.0   \n",
       "\n",
       "        Longitude   Latitude  Police_Force  Accident_Severity  \\\n",
       "2       -0.201543  51.521988             1                  3   \n",
       "3       -0.189301  51.478096             1                  3   \n",
       "5       -0.171599  51.495806             1                  3   \n",
       "6       -0.197423  51.509515             1                  3   \n",
       "7       -0.181674  51.481575             1                  3   \n",
       "...           ...        ...           ...                ...   \n",
       "248443  -0.107830  51.517404            48                  3   \n",
       "248446  -0.088503  51.517711            48                  3   \n",
       "248449  -0.100717  51.515859            48                  3   \n",
       "248452  -0.104417  51.514220            48                  2   \n",
       "248453  -0.074041  51.514426            48                  2   \n",
       "\n",
       "        Number_of_Vehicles  Number_of_Casualties        Date  ...  \\\n",
       "2                        2                     1  2005-03-02  ...   \n",
       "3                        2                     1  2005-03-02  ...   \n",
       "5                        2                     1  2005-10-02  ...   \n",
       "6                        2                     1  2005-02-17  ...   \n",
       "7                        2                     1  2005-02-16  ...   \n",
       "...                    ...                   ...         ...  ...   \n",
       "248443                   1                     1  2018-09-10  ...   \n",
       "248446                   2                     1  2018-02-11  ...   \n",
       "248449                   2                     1  2018-10-31  ...   \n",
       "248452                   2                     1  2018-12-14  ...   \n",
       "248453                   2                     1  2018-12-15  ...   \n",
       "\n",
       "        aadf_CLT_PTIME aadf_CLT_ACCESS  \\\n",
       "2                False             NaN   \n",
       "3                False             NaN   \n",
       "5                 True             NaN   \n",
       "6                False             NaN   \n",
       "7                False             NaN   \n",
       "...                ...             ...   \n",
       "248443            True             NaN   \n",
       "248446           False             NaN   \n",
       "248449           False             NaN   \n",
       "248452           False             NaN   \n",
       "248453           False             NaN   \n",
       "\n",
       "                                          aadf_CLT_COLOUR  \\\n",
       "2                                                    [[]]   \n",
       "3       [['NONE', 'NONE', 'NONE', 'NONE', 'NONE', 'NON...   \n",
       "5                                              [['NONE']]   \n",
       "6                                                    [[]]   \n",
       "7              [['NONE', 'NONE', 'NONE', 'NONE', 'NONE']]   \n",
       "...                                                   ...   \n",
       "248443         [['NONE', 'NONE', 'NONE', 'NONE', 'NONE']]   \n",
       "248446                        [['GREEN', 'NONE', 'NONE']]   \n",
       "248449  [['NONE', 'NONE', 'NONE', 'NONE', 'NONE', 'NON...   \n",
       "248452  [['NONE', 'NONE', 'NONE', 'NONE', 'NONE', 'NON...   \n",
       "248453  [['BLUE', 'BLUE', 'BLUE', 'BLUE', 'BLUE', 'BLU...   \n",
       "\n",
       "                                             aadf_BOROUGH  distance_to_cp  \\\n",
       "2                                                    [[]]        0.154730   \n",
       "3       [[None, None, 'Hammersmith & Fulham', 'Hammers...        0.122721   \n",
       "5                              [['Kensington & Chelsea']]        0.085581   \n",
       "6                                                    [[]]        0.353096   \n",
       "7       [['Kensington & Chelsea', 'Kensington & Chelse...        0.061657   \n",
       "...                                                   ...             ...   \n",
       "248443  [['City of London', 'City of London', 'City of...        0.158715   \n",
       "248446  [['City of London', 'Islington', 'City of Lond...        0.047618   \n",
       "248449  [['City of London', 'City of London', 'City of...        0.021948   \n",
       "248452  [['City of London', 'City of London', 'City of...        0.087788   \n",
       "248453  [['Tower Hamlets', 'Tower Hamlets', 'Tower Ham...        0.059647   \n",
       "\n",
       "        match  bikelane  aadf_Pedal_cycles_scaled  \\\n",
       "2        True      True                 -0.325591   \n",
       "3        True      True                  0.947518   \n",
       "5        True      True                 -0.432457   \n",
       "6        True      True                 -0.772971   \n",
       "7        True      True                 -0.400597   \n",
       "...       ...       ...                       ...   \n",
       "248443   True      True                 -0.202793   \n",
       "248446   True      True                  0.607004   \n",
       "248449   True      True                  2.021495   \n",
       "248452   True      True                  6.199920   \n",
       "248453   True      True                  1.842278   \n",
       "\n",
       "        aadf_All_motor_vehicles_scaled  distance_to_cp_scaled  \n",
       "2                            -0.513288              -0.188243  \n",
       "3                             0.673221              -0.335638  \n",
       "5                             1.693743              -0.506661  \n",
       "6                            -1.270212               0.725209  \n",
       "7                            -0.405460              -0.616829  \n",
       "...                                ...                    ...  \n",
       "248443                       -0.810446              -0.169890  \n",
       "248446                       -0.649489              -0.681476  \n",
       "248449                        0.223280              -0.799684  \n",
       "248452                        1.389827              -0.496502  \n",
       "248453                        0.003928              -0.626085  \n",
       "\n",
       "[37044 rows x 102 columns]"
      ]
     },
     "execution_count": 71,
     "metadata": {},
     "output_type": "execute_result"
    }
   ],
   "source": [
    "data"
   ]
  },
  {
   "cell_type": "code",
   "execution_count": 83,
   "id": "9a813bc8",
   "metadata": {},
   "outputs": [],
   "source": [
    "## make the validation set\n",
    "data_train, data_test = train_test_split(data,\n",
    "                                             shuffle = True,\n",
    "                                             random_state = 9483,\n",
    "                                             test_size = .1,\n",
    "                                             stratify = data.Accident_Severity)"
   ]
  },
  {
   "cell_type": "markdown",
   "id": "830b3003",
   "metadata": {},
   "source": [
    "##### 1. Logistic regression"
   ]
  },
  {
   "cell_type": "code",
   "execution_count": 84,
   "id": "3c990c38",
   "metadata": {},
   "outputs": [],
   "source": [
    "from sklearn.linear_model import LogisticRegression"
   ]
  },
  {
   "cell_type": "code",
   "execution_count": 85,
   "id": "f5bc5af2",
   "metadata": {},
   "outputs": [],
   "source": [
    "features = ['Longitude', 'Latitude', 'Speed_limit', 'Light_Conditions', 'Weather_Conditions', 'Road_Surface_Conditions', 'Special_Conditions_at_Site', 'Urban_or_Rural_Area', 'aadf_All_motor_vehicles']"
   ]
  },
  {
   "cell_type": "code",
   "execution_count": 86,
   "id": "db98d9be",
   "metadata": {},
   "outputs": [],
   "source": [
    "log_reg = LogisticRegression(penalty='none', multi_class='multinomial', max_iter=100000)"
   ]
  },
  {
   "cell_type": "code",
   "execution_count": 87,
   "id": "5e8f6a40",
   "metadata": {},
   "outputs": [
    {
     "data": {
      "text/html": [
       "<div>\n",
       "<style scoped>\n",
       "    .dataframe tbody tr th:only-of-type {\n",
       "        vertical-align: middle;\n",
       "    }\n",
       "\n",
       "    .dataframe tbody tr th {\n",
       "        vertical-align: top;\n",
       "    }\n",
       "\n",
       "    .dataframe thead th {\n",
       "        text-align: right;\n",
       "    }\n",
       "</style>\n",
       "<table border=\"1\" class=\"dataframe\">\n",
       "  <thead>\n",
       "    <tr style=\"text-align: right;\">\n",
       "      <th></th>\n",
       "      <th>Longitude</th>\n",
       "      <th>Latitude</th>\n",
       "      <th>Speed_limit</th>\n",
       "      <th>Light_Conditions</th>\n",
       "      <th>Weather_Conditions</th>\n",
       "      <th>Road_Surface_Conditions</th>\n",
       "      <th>Special_Conditions_at_Site</th>\n",
       "      <th>Urban_or_Rural_Area</th>\n",
       "      <th>aadf_All_motor_vehicles</th>\n",
       "    </tr>\n",
       "  </thead>\n",
       "  <tbody>\n",
       "    <tr>\n",
       "      <th>87243</th>\n",
       "      <td>-0.166409</td>\n",
       "      <td>51.442039</td>\n",
       "      <td>30.0</td>\n",
       "      <td>4</td>\n",
       "      <td>1</td>\n",
       "      <td>1</td>\n",
       "      <td>0</td>\n",
       "      <td>1</td>\n",
       "      <td>34820.0</td>\n",
       "    </tr>\n",
       "    <tr>\n",
       "      <th>162490</th>\n",
       "      <td>-0.018479</td>\n",
       "      <td>51.581539</td>\n",
       "      <td>30.0</td>\n",
       "      <td>1</td>\n",
       "      <td>1</td>\n",
       "      <td>1</td>\n",
       "      <td>0</td>\n",
       "      <td>1</td>\n",
       "      <td>14637.0</td>\n",
       "    </tr>\n",
       "    <tr>\n",
       "      <th>1764</th>\n",
       "      <td>0.016201</td>\n",
       "      <td>51.455137</td>\n",
       "      <td>30.0</td>\n",
       "      <td>1</td>\n",
       "      <td>1</td>\n",
       "      <td>1</td>\n",
       "      <td>0</td>\n",
       "      <td>1</td>\n",
       "      <td>29497.0</td>\n",
       "    </tr>\n",
       "    <tr>\n",
       "      <th>121261</th>\n",
       "      <td>-0.080157</td>\n",
       "      <td>51.515388</td>\n",
       "      <td>30.0</td>\n",
       "      <td>1</td>\n",
       "      <td>1</td>\n",
       "      <td>1</td>\n",
       "      <td>0</td>\n",
       "      <td>1</td>\n",
       "      <td>5539.0</td>\n",
       "    </tr>\n",
       "    <tr>\n",
       "      <th>217516</th>\n",
       "      <td>-0.111282</td>\n",
       "      <td>51.456237</td>\n",
       "      <td>20.0</td>\n",
       "      <td>4</td>\n",
       "      <td>1</td>\n",
       "      <td>1</td>\n",
       "      <td>0</td>\n",
       "      <td>1</td>\n",
       "      <td>2804.0</td>\n",
       "    </tr>\n",
       "  </tbody>\n",
       "</table>\n",
       "</div>"
      ],
      "text/plain": [
       "        Longitude   Latitude  Speed_limit  Light_Conditions  \\\n",
       "87243   -0.166409  51.442039         30.0                 4   \n",
       "162490  -0.018479  51.581539         30.0                 1   \n",
       "1764     0.016201  51.455137         30.0                 1   \n",
       "121261  -0.080157  51.515388         30.0                 1   \n",
       "217516  -0.111282  51.456237         20.0                 4   \n",
       "\n",
       "        Weather_Conditions  Road_Surface_Conditions  \\\n",
       "87243                    1                        1   \n",
       "162490                   1                        1   \n",
       "1764                     1                        1   \n",
       "121261                   1                        1   \n",
       "217516                   1                        1   \n",
       "\n",
       "        Special_Conditions_at_Site  Urban_or_Rural_Area  \\\n",
       "87243                            0                    1   \n",
       "162490                           0                    1   \n",
       "1764                             0                    1   \n",
       "121261                           0                    1   \n",
       "217516                           0                    1   \n",
       "\n",
       "        aadf_All_motor_vehicles  \n",
       "87243                   34820.0  \n",
       "162490                  14637.0  \n",
       "1764                    29497.0  \n",
       "121261                   5539.0  \n",
       "217516                   2804.0  "
      ]
     },
     "execution_count": 87,
     "metadata": {},
     "output_type": "execute_result"
    }
   ],
   "source": [
    "log_reg.fit(data_train[features], data_train.Accident_Severity)\n",
    "data_train[features].sample(5)"
   ]
  },
  {
   "cell_type": "code",
   "execution_count": 88,
   "id": "ba12894a",
   "metadata": {},
   "outputs": [
    {
     "data": {
      "text/plain": [
       "array([3, 3, 3, ..., 3, 3, 3])"
      ]
     },
     "execution_count": 88,
     "metadata": {},
     "output_type": "execute_result"
    }
   ],
   "source": [
    "log_reg.predict(data_test[features])"
   ]
  },
  {
   "cell_type": "code",
   "execution_count": 89,
   "id": "7ed82ced",
   "metadata": {},
   "outputs": [
    {
     "data": {
      "text/plain": [
       "array([3])"
      ]
     },
     "execution_count": 89,
     "metadata": {},
     "output_type": "execute_result"
    }
   ],
   "source": [
    "np.unique(log_reg.predict(data_test[features]))"
   ]
  },
  {
   "cell_type": "code",
   "execution_count": 90,
   "id": "fe3a9c0c",
   "metadata": {},
   "outputs": [
    {
     "data": {
      "text/plain": [
       "array([3, 3, 3, ..., 3, 2, 2])"
      ]
     },
     "execution_count": 90,
     "metadata": {},
     "output_type": "execute_result"
    }
   ],
   "source": [
    "data_test.Accident_Severity.values"
   ]
  },
  {
   "cell_type": "code",
   "execution_count": 91,
   "id": "7be27b01",
   "metadata": {},
   "outputs": [],
   "source": [
    "from sklearn.metrics import accuracy_score"
   ]
  },
  {
   "cell_type": "code",
   "execution_count": 92,
   "id": "719f4c76",
   "metadata": {},
   "outputs": [
    {
     "data": {
      "text/plain": [
       "0.8682860998650472"
      ]
     },
     "execution_count": 92,
     "metadata": {},
     "output_type": "execute_result"
    }
   ],
   "source": [
    "accuracy_score(data_test.Accident_Severity, log_reg.predict(data_test[features]))"
   ]
  },
  {
   "cell_type": "markdown",
   "id": "49172f72",
   "metadata": {},
   "source": [
    "One massive hurdle for classification, here, is the unbalanced dataset where nearly all accidents are not serious at all. Thus, metrics like accuracy can indicate that even simple models do a good job while it is clear that the only predictions are that the accident is not severe and, therefore, most predictions are correct."
   ]
  },
  {
   "cell_type": "markdown",
   "id": "bbb1d7cd",
   "metadata": {},
   "source": [
    "##### 2. GridSearchCV"
   ]
  },
  {
   "cell_type": "code",
   "execution_count": 93,
   "id": "60e8e446",
   "metadata": {},
   "outputs": [],
   "source": [
    "from sklearn.ensemble import RandomForestClassifier\n",
    "from sklearn.model_selection import GridSearchCV"
   ]
  },
  {
   "cell_type": "code",
   "execution_count": 94,
   "id": "0e83d8eb",
   "metadata": {},
   "outputs": [],
   "source": [
    "max_depths = range(1, 11)\n",
    "n_trees = [100, 500]"
   ]
  },
  {
   "cell_type": "code",
   "execution_count": 95,
   "id": "3df75049",
   "metadata": {},
   "outputs": [],
   "source": [
    "grid_cv = GridSearchCV(RandomForestClassifier(), # first put the model object here\n",
    "                          param_grid = {'max_depth':max_depths, # place the grid values for max_depth and\n",
    "                                        'n_estimators':n_trees}, # and n_estimators here\n",
    "                          scoring = \"accuracy\", # put the metric we are trying to optimize here as a string, \"accuracy\"\n",
    "                          cv = 10)"
   ]
  },
  {
   "cell_type": "code",
   "execution_count": 96,
   "id": "58475d66",
   "metadata": {},
   "outputs": [
    {
     "data": {
      "text/html": [
       "<style>#sk-container-id-1 {color: black;background-color: white;}#sk-container-id-1 pre{padding: 0;}#sk-container-id-1 div.sk-toggleable {background-color: white;}#sk-container-id-1 label.sk-toggleable__label {cursor: pointer;display: block;width: 100%;margin-bottom: 0;padding: 0.3em;box-sizing: border-box;text-align: center;}#sk-container-id-1 label.sk-toggleable__label-arrow:before {content: \"▸\";float: left;margin-right: 0.25em;color: #696969;}#sk-container-id-1 label.sk-toggleable__label-arrow:hover:before {color: black;}#sk-container-id-1 div.sk-estimator:hover label.sk-toggleable__label-arrow:before {color: black;}#sk-container-id-1 div.sk-toggleable__content {max-height: 0;max-width: 0;overflow: hidden;text-align: left;background-color: #f0f8ff;}#sk-container-id-1 div.sk-toggleable__content pre {margin: 0.2em;color: black;border-radius: 0.25em;background-color: #f0f8ff;}#sk-container-id-1 input.sk-toggleable__control:checked~div.sk-toggleable__content {max-height: 200px;max-width: 100%;overflow: auto;}#sk-container-id-1 input.sk-toggleable__control:checked~label.sk-toggleable__label-arrow:before {content: \"▾\";}#sk-container-id-1 div.sk-estimator input.sk-toggleable__control:checked~label.sk-toggleable__label {background-color: #d4ebff;}#sk-container-id-1 div.sk-label input.sk-toggleable__control:checked~label.sk-toggleable__label {background-color: #d4ebff;}#sk-container-id-1 input.sk-hidden--visually {border: 0;clip: rect(1px 1px 1px 1px);clip: rect(1px, 1px, 1px, 1px);height: 1px;margin: -1px;overflow: hidden;padding: 0;position: absolute;width: 1px;}#sk-container-id-1 div.sk-estimator {font-family: monospace;background-color: #f0f8ff;border: 1px dotted black;border-radius: 0.25em;box-sizing: border-box;margin-bottom: 0.5em;}#sk-container-id-1 div.sk-estimator:hover {background-color: #d4ebff;}#sk-container-id-1 div.sk-parallel-item::after {content: \"\";width: 100%;border-bottom: 1px solid gray;flex-grow: 1;}#sk-container-id-1 div.sk-label:hover label.sk-toggleable__label {background-color: #d4ebff;}#sk-container-id-1 div.sk-serial::before {content: \"\";position: absolute;border-left: 1px solid gray;box-sizing: border-box;top: 0;bottom: 0;left: 50%;z-index: 0;}#sk-container-id-1 div.sk-serial {display: flex;flex-direction: column;align-items: center;background-color: white;padding-right: 0.2em;padding-left: 0.2em;position: relative;}#sk-container-id-1 div.sk-item {position: relative;z-index: 1;}#sk-container-id-1 div.sk-parallel {display: flex;align-items: stretch;justify-content: center;background-color: white;position: relative;}#sk-container-id-1 div.sk-item::before, #sk-container-id-1 div.sk-parallel-item::before {content: \"\";position: absolute;border-left: 1px solid gray;box-sizing: border-box;top: 0;bottom: 0;left: 50%;z-index: -1;}#sk-container-id-1 div.sk-parallel-item {display: flex;flex-direction: column;z-index: 1;position: relative;background-color: white;}#sk-container-id-1 div.sk-parallel-item:first-child::after {align-self: flex-end;width: 50%;}#sk-container-id-1 div.sk-parallel-item:last-child::after {align-self: flex-start;width: 50%;}#sk-container-id-1 div.sk-parallel-item:only-child::after {width: 0;}#sk-container-id-1 div.sk-dashed-wrapped {border: 1px dashed gray;margin: 0 0.4em 0.5em 0.4em;box-sizing: border-box;padding-bottom: 0.4em;background-color: white;}#sk-container-id-1 div.sk-label label {font-family: monospace;font-weight: bold;display: inline-block;line-height: 1.2em;}#sk-container-id-1 div.sk-label-container {text-align: center;}#sk-container-id-1 div.sk-container {/* jupyter's `normalize.less` sets `[hidden] { display: none; }` but bootstrap.min.css set `[hidden] { display: none !important; }` so we also need the `!important` here to be able to override the default hidden behavior on the sphinx rendered scikit-learn.org. See: https://github.com/scikit-learn/scikit-learn/issues/21755 */display: inline-block !important;position: relative;}#sk-container-id-1 div.sk-text-repr-fallback {display: none;}</style><div id=\"sk-container-id-1\" class=\"sk-top-container\"><div class=\"sk-text-repr-fallback\"><pre>GridSearchCV(cv=10, estimator=RandomForestClassifier(),\n",
       "             param_grid={&#x27;max_depth&#x27;: range(1, 11), &#x27;n_estimators&#x27;: [100, 500]},\n",
       "             scoring=&#x27;accuracy&#x27;)</pre><b>In a Jupyter environment, please rerun this cell to show the HTML representation or trust the notebook. <br />On GitHub, the HTML representation is unable to render, please try loading this page with nbviewer.org.</b></div><div class=\"sk-container\" hidden><div class=\"sk-item sk-dashed-wrapped\"><div class=\"sk-label-container\"><div class=\"sk-label sk-toggleable\"><input class=\"sk-toggleable__control sk-hidden--visually\" id=\"sk-estimator-id-1\" type=\"checkbox\" ><label for=\"sk-estimator-id-1\" class=\"sk-toggleable__label sk-toggleable__label-arrow\">GridSearchCV</label><div class=\"sk-toggleable__content\"><pre>GridSearchCV(cv=10, estimator=RandomForestClassifier(),\n",
       "             param_grid={&#x27;max_depth&#x27;: range(1, 11), &#x27;n_estimators&#x27;: [100, 500]},\n",
       "             scoring=&#x27;accuracy&#x27;)</pre></div></div></div><div class=\"sk-parallel\"><div class=\"sk-parallel-item\"><div class=\"sk-item\"><div class=\"sk-label-container\"><div class=\"sk-label sk-toggleable\"><input class=\"sk-toggleable__control sk-hidden--visually\" id=\"sk-estimator-id-2\" type=\"checkbox\" ><label for=\"sk-estimator-id-2\" class=\"sk-toggleable__label sk-toggleable__label-arrow\">estimator: RandomForestClassifier</label><div class=\"sk-toggleable__content\"><pre>RandomForestClassifier()</pre></div></div></div><div class=\"sk-serial\"><div class=\"sk-item\"><div class=\"sk-estimator sk-toggleable\"><input class=\"sk-toggleable__control sk-hidden--visually\" id=\"sk-estimator-id-3\" type=\"checkbox\" ><label for=\"sk-estimator-id-3\" class=\"sk-toggleable__label sk-toggleable__label-arrow\">RandomForestClassifier</label><div class=\"sk-toggleable__content\"><pre>RandomForestClassifier()</pre></div></div></div></div></div></div></div></div></div></div>"
      ],
      "text/plain": [
       "GridSearchCV(cv=10, estimator=RandomForestClassifier(),\n",
       "             param_grid={'max_depth': range(1, 11), 'n_estimators': [100, 500]},\n",
       "             scoring='accuracy')"
      ]
     },
     "execution_count": 96,
     "metadata": {},
     "output_type": "execute_result"
    }
   ],
   "source": [
    "grid_cv.fit(data_train[features], data_train.Accident_Severity)"
   ]
  },
  {
   "cell_type": "code",
   "execution_count": 97,
   "id": "124054c5",
   "metadata": {},
   "outputs": [
    {
     "data": {
      "text/html": [
       "<div>\n",
       "<style scoped>\n",
       "    .dataframe tbody tr th:only-of-type {\n",
       "        vertical-align: middle;\n",
       "    }\n",
       "\n",
       "    .dataframe tbody tr th {\n",
       "        vertical-align: top;\n",
       "    }\n",
       "\n",
       "    .dataframe thead th {\n",
       "        text-align: right;\n",
       "    }\n",
       "</style>\n",
       "<table border=\"1\" class=\"dataframe\">\n",
       "  <thead>\n",
       "    <tr style=\"text-align: right;\">\n",
       "      <th></th>\n",
       "      <th>feature</th>\n",
       "      <th>importance_score</th>\n",
       "    </tr>\n",
       "  </thead>\n",
       "  <tbody>\n",
       "    <tr>\n",
       "      <th>2</th>\n",
       "      <td>Speed_limit</td>\n",
       "      <td>0.27</td>\n",
       "    </tr>\n",
       "    <tr>\n",
       "      <th>1</th>\n",
       "      <td>Latitude</td>\n",
       "      <td>0.26</td>\n",
       "    </tr>\n",
       "    <tr>\n",
       "      <th>6</th>\n",
       "      <td>Special_Conditions_at_Site</td>\n",
       "      <td>0.12</td>\n",
       "    </tr>\n",
       "    <tr>\n",
       "      <th>7</th>\n",
       "      <td>Urban_or_Rural_Area</td>\n",
       "      <td>0.12</td>\n",
       "    </tr>\n",
       "    <tr>\n",
       "      <th>0</th>\n",
       "      <td>Longitude</td>\n",
       "      <td>0.11</td>\n",
       "    </tr>\n",
       "    <tr>\n",
       "      <th>3</th>\n",
       "      <td>Light_Conditions</td>\n",
       "      <td>0.09</td>\n",
       "    </tr>\n",
       "    <tr>\n",
       "      <th>8</th>\n",
       "      <td>aadf_All_motor_vehicles</td>\n",
       "      <td>0.03</td>\n",
       "    </tr>\n",
       "    <tr>\n",
       "      <th>4</th>\n",
       "      <td>Weather_Conditions</td>\n",
       "      <td>0.00</td>\n",
       "    </tr>\n",
       "    <tr>\n",
       "      <th>5</th>\n",
       "      <td>Road_Surface_Conditions</td>\n",
       "      <td>0.00</td>\n",
       "    </tr>\n",
       "  </tbody>\n",
       "</table>\n",
       "</div>"
      ],
      "text/plain": [
       "                      feature  importance_score\n",
       "2                 Speed_limit              0.27\n",
       "1                    Latitude              0.26\n",
       "6  Special_Conditions_at_Site              0.12\n",
       "7         Urban_or_Rural_Area              0.12\n",
       "0                   Longitude              0.11\n",
       "3            Light_Conditions              0.09\n",
       "8     aadf_All_motor_vehicles              0.03\n",
       "4          Weather_Conditions              0.00\n",
       "5     Road_Surface_Conditions              0.00"
      ]
     },
     "execution_count": 97,
     "metadata": {},
     "output_type": "execute_result"
    }
   ],
   "source": [
    "score_df = pd.DataFrame({'feature':features,\n",
    "                            'importance_score': grid_cv.best_estimator_.feature_importances_})\n",
    "\n",
    "score_df.sort_values('importance_score',ascending=False)"
   ]
  },
  {
   "cell_type": "code",
   "execution_count": 98,
   "id": "effe934b",
   "metadata": {},
   "outputs": [
    {
     "data": {
      "text/plain": [
       "{'max_depth': 1, 'n_estimators': 100}"
      ]
     },
     "execution_count": 98,
     "metadata": {},
     "output_type": "execute_result"
    }
   ],
   "source": [
    "grid_cv.best_params_"
   ]
  },
  {
   "cell_type": "code",
   "execution_count": 99,
   "id": "3666bb2d",
   "metadata": {},
   "outputs": [
    {
     "data": {
      "text/plain": [
       "0.8683223841280349"
      ]
     },
     "execution_count": 99,
     "metadata": {},
     "output_type": "execute_result"
    }
   ],
   "source": [
    "grid_cv.best_score_"
   ]
  },
  {
   "cell_type": "code",
   "execution_count": 100,
   "id": "fb764389",
   "metadata": {},
   "outputs": [
    {
     "data": {
      "text/plain": [
       "array([3, 3, 3, ..., 3, 3, 3])"
      ]
     },
     "execution_count": 100,
     "metadata": {},
     "output_type": "execute_result"
    }
   ],
   "source": [
    "grid_cv.best_estimator_.predict(data_test[features])"
   ]
  },
  {
   "cell_type": "code",
   "execution_count": 101,
   "id": "ec0e3111",
   "metadata": {},
   "outputs": [
    {
     "data": {
      "text/plain": [
       "array([3])"
      ]
     },
     "execution_count": 101,
     "metadata": {},
     "output_type": "execute_result"
    }
   ],
   "source": [
    "np.unique(grid_cv.best_estimator_.predict(data_test[features]))"
   ]
  },
  {
   "cell_type": "markdown",
   "id": "ddae30e1",
   "metadata": {},
   "source": [
    "The previous two examples are very simple examples of preliminary classificatoin being used on our dataset. Future directions would be to find a way to balance the dataset or at least account for the fact that it is so unbalanced to get meaningful classification. "
   ]
  },
  {
   "cell_type": "code",
   "execution_count": null,
   "id": "72035cc0",
   "metadata": {},
   "outputs": [],
   "source": []
  }
 ],
 "metadata": {
  "kernelspec": {
   "display_name": "Python 3 (ipykernel)",
   "language": "python",
   "name": "python3"
  },
  "language_info": {
   "codemirror_mode": {
    "name": "ipython",
    "version": 3
   },
   "file_extension": ".py",
   "mimetype": "text/x-python",
   "name": "python",
   "nbconvert_exporter": "python",
   "pygments_lexer": "ipython3",
   "version": "3.8.5"
  }
 },
 "nbformat": 4,
 "nbformat_minor": 5
}
