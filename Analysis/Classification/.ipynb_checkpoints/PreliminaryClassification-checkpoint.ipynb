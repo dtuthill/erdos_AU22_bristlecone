{
 "cells": [
  {
   "cell_type": "markdown",
   "id": "8b15996b",
   "metadata": {},
   "source": [
    "# Early Models\n",
    "\n",
    "This notebook will primarily focus on looking at a collection of simpler models using the combined collisions/traffic flow dataset."
   ]
  },
  {
   "cell_type": "code",
   "execution_count": 1,
   "id": "17231c82",
   "metadata": {},
   "outputs": [],
   "source": [
    "import pandas as pd\n",
    "import numpy as np\n",
    "import matplotlib.pyplot as plt\n",
    "import seaborn as sns\n",
    "\n",
    "sns.set_style(\"darkgrid\")"
   ]
  },
  {
   "cell_type": "markdown",
   "id": "b2b076fd",
   "metadata": {},
   "source": [
    "##### 0. Importing and cleaning the data"
   ]
  },
  {
   "cell_type": "code",
   "execution_count": 67,
   "id": "4c939f2b",
   "metadata": {},
   "outputs": [],
   "source": [
    "## Read in the data with traffic counter and\n",
    "## bike feature information matched\n",
    "data_raw = pd.read_csv('./DataFrames/combined_collisions_v3.csv')"
   ]
  },
  {
   "cell_type": "code",
   "execution_count": 3,
   "id": "787e527f",
   "metadata": {},
   "outputs": [],
   "source": [
    "## Type mismatch columns from NaN values vs. lists\n",
    "## No longer an error, can ignore\n",
    "#data.columns.values[[77,78,95,96]]"
   ]
  },
  {
   "cell_type": "code",
   "execution_count": 4,
   "id": "9e29d7e5",
   "metadata": {},
   "outputs": [],
   "source": [
    "## Features to ignore when dropping NaN values\n",
    "## because only the traffic counter data should\n",
    "## be required to match accident data\n",
    "bike_features = ['aadf_FEATURE_ID', 'aadf_SVDATE', 'aadf_CLT_CARR', \n",
    "                     'aadf_CLT_SEGREG', 'aadf_CLT_STEPP', 'aadf_CLT_PARSEG',\n",
    "                     'aadf_CLT_SHARED', 'aadf_CLT_MANDAT', 'aadf_CLT_ADVIS',\n",
    "                     'aadf_CLT_PRIORI', 'aadf_CLT_CONTRA', 'aadf_CLT_BIDIRE',\n",
    "                     'aadf_CLT_CBYPAS', 'aadf_CLT_BBYPAS', 'aadf_CLT_PARKR',\n",
    "                     'aadf_CLT_WATERR', 'aadf_CLT_PTIME', 'aadf_CLT_ACCESS',\n",
    "                     'aadf_CLT_COLOUR', 'aadf_BOROUGH']"
   ]
  },
  {
   "cell_type": "code",
   "execution_count": 68,
   "id": "854b761f",
   "metadata": {},
   "outputs": [],
   "source": [
    "## Dropping NaN values and dummy columns\n",
    "## and restricting the data to Greater London\n",
    "data = data_raw.dropna(subset=[column for column in data_raw.columns if column not in bike_features]).copy()\n",
    "data.drop(columns='Unnamed: 0',inplace=True)\n",
    "data = data.loc[data.in_london == True]\n",
    "## This should be redundant, but running\n",
    "## to make sure anyway\n",
    "data = data.loc[data.match == True]\n",
    "\n",
    "## Some extra cleaning of additional columns\n",
    "def is_str(x):\n",
    "    Nx = len(x)\n",
    "    I = np.ones(Nx).astype(bool)\n",
    "    for ii in range(Nx):\n",
    "        if type(x[ii]) != str:\n",
    "            I[ii] = False\n",
    "    return I\n",
    "\n",
    "data = data.loc[is_str(data.Time.values),:]\n",
    "data.aadf_Count_point_id = data.aadf_Count_point_id.values.astype(int)"
   ]
  },
  {
   "cell_type": "markdown",
   "id": "596aebfb",
   "metadata": {},
   "source": [
    "For now, we will ignore any additional time columns and neighborhood work from Greg because it gets transformed when summing and the mode is taken anyway, making them virtually useless columns."
   ]
  },
  {
   "cell_type": "code",
   "execution_count": 69,
   "id": "7b7110a9",
   "metadata": {},
   "outputs": [
    {
     "data": {
      "text/html": [
       "<div>\n",
       "<style scoped>\n",
       "    .dataframe tbody tr th:only-of-type {\n",
       "        vertical-align: middle;\n",
       "    }\n",
       "\n",
       "    .dataframe tbody tr th {\n",
       "        vertical-align: top;\n",
       "    }\n",
       "\n",
       "    .dataframe thead th {\n",
       "        text-align: right;\n",
       "    }\n",
       "</style>\n",
       "<table border=\"1\" class=\"dataframe\">\n",
       "  <thead>\n",
       "    <tr style=\"text-align: right;\">\n",
       "      <th></th>\n",
       "      <th>Accident_Index</th>\n",
       "      <th>Location_Easting_OSGR</th>\n",
       "      <th>Location_Northing_OSGR</th>\n",
       "      <th>Longitude</th>\n",
       "      <th>Latitude</th>\n",
       "      <th>Police_Force</th>\n",
       "      <th>Accident_Severity</th>\n",
       "      <th>Number_of_Vehicles</th>\n",
       "      <th>Number_of_Casualties</th>\n",
       "      <th>Date</th>\n",
       "      <th>...</th>\n",
       "      <th>aadf_CLT_BBYPAS</th>\n",
       "      <th>aadf_CLT_PARKR</th>\n",
       "      <th>aadf_CLT_WATERR</th>\n",
       "      <th>aadf_CLT_PTIME</th>\n",
       "      <th>aadf_CLT_ACCESS</th>\n",
       "      <th>aadf_CLT_COLOUR</th>\n",
       "      <th>aadf_BOROUGH</th>\n",
       "      <th>distance_to_cp</th>\n",
       "      <th>match</th>\n",
       "      <th>bikelane</th>\n",
       "    </tr>\n",
       "  </thead>\n",
       "  <tbody>\n",
       "    <tr>\n",
       "      <th>165147</th>\n",
       "      <td>201401XH30511</td>\n",
       "      <td>508860.0</td>\n",
       "      <td>181840.0</td>\n",
       "      <td>-0.432223</td>\n",
       "      <td>51.524939</td>\n",
       "      <td>1</td>\n",
       "      <td>3</td>\n",
       "      <td>2</td>\n",
       "      <td>1</td>\n",
       "      <td>2014-08-22</td>\n",
       "      <td>...</td>\n",
       "      <td>False</td>\n",
       "      <td>False</td>\n",
       "      <td>False</td>\n",
       "      <td>False</td>\n",
       "      <td>NaN</td>\n",
       "      <td>[['NONE', 'GREEN', 'GREEN']]</td>\n",
       "      <td>[['Hillingdon', 'Hillingdon', 'Hillingdon']]</td>\n",
       "      <td>0.754667</td>\n",
       "      <td>True</td>\n",
       "      <td>True</td>\n",
       "    </tr>\n",
       "    <tr>\n",
       "      <th>144365</th>\n",
       "      <td>201301VW40169</td>\n",
       "      <td>524400.0</td>\n",
       "      <td>169350.0</td>\n",
       "      <td>-0.212720</td>\n",
       "      <td>51.409481</td>\n",
       "      <td>1</td>\n",
       "      <td>3</td>\n",
       "      <td>2</td>\n",
       "      <td>1</td>\n",
       "      <td>2013-05-20</td>\n",
       "      <td>...</td>\n",
       "      <td>False</td>\n",
       "      <td>False</td>\n",
       "      <td>False</td>\n",
       "      <td>False</td>\n",
       "      <td>NaN</td>\n",
       "      <td>[['NONE', 'NONE', 'NONE']]</td>\n",
       "      <td>[['Merton', 'Merton', 'Merton']]</td>\n",
       "      <td>0.312611</td>\n",
       "      <td>True</td>\n",
       "      <td>True</td>\n",
       "    </tr>\n",
       "    <tr>\n",
       "      <th>202730</th>\n",
       "      <td>201601WW50530</td>\n",
       "      <td>527740.0</td>\n",
       "      <td>175760.0</td>\n",
       "      <td>-0.162412</td>\n",
       "      <td>51.466347</td>\n",
       "      <td>1</td>\n",
       "      <td>3</td>\n",
       "      <td>2</td>\n",
       "      <td>1</td>\n",
       "      <td>2016-05-07</td>\n",
       "      <td>...</td>\n",
       "      <td>False</td>\n",
       "      <td>False</td>\n",
       "      <td>False</td>\n",
       "      <td>False</td>\n",
       "      <td>NaN</td>\n",
       "      <td>[[]]</td>\n",
       "      <td>[[]]</td>\n",
       "      <td>0.159057</td>\n",
       "      <td>True</td>\n",
       "      <td>True</td>\n",
       "    </tr>\n",
       "    <tr>\n",
       "      <th>86315</th>\n",
       "      <td>201001PY20051</td>\n",
       "      <td>541670.0</td>\n",
       "      <td>169330.0</td>\n",
       "      <td>0.035430</td>\n",
       "      <td>51.405253</td>\n",
       "      <td>1</td>\n",
       "      <td>3</td>\n",
       "      <td>2</td>\n",
       "      <td>1</td>\n",
       "      <td>2010-01-02</td>\n",
       "      <td>...</td>\n",
       "      <td>False</td>\n",
       "      <td>False</td>\n",
       "      <td>False</td>\n",
       "      <td>False</td>\n",
       "      <td>NaN</td>\n",
       "      <td>[[]]</td>\n",
       "      <td>[[]]</td>\n",
       "      <td>1.504347</td>\n",
       "      <td>True</td>\n",
       "      <td>True</td>\n",
       "    </tr>\n",
       "    <tr>\n",
       "      <th>1126</th>\n",
       "      <td>200501HT20410</td>\n",
       "      <td>535000.0</td>\n",
       "      <td>181280.0</td>\n",
       "      <td>-0.055847</td>\n",
       "      <td>51.514268</td>\n",
       "      <td>1</td>\n",
       "      <td>3</td>\n",
       "      <td>2</td>\n",
       "      <td>1</td>\n",
       "      <td>2005-06-06</td>\n",
       "      <td>...</td>\n",
       "      <td>False</td>\n",
       "      <td>False</td>\n",
       "      <td>False</td>\n",
       "      <td>True</td>\n",
       "      <td>NaN</td>\n",
       "      <td>[['NONE', 'NONE', 'NONE', 'NONE', 'NONE', 'NON...</td>\n",
       "      <td>[['Tower Hamlets', 'Tower Hamlets', 'Tower Ham...</td>\n",
       "      <td>0.061003</td>\n",
       "      <td>True</td>\n",
       "      <td>True</td>\n",
       "    </tr>\n",
       "  </tbody>\n",
       "</table>\n",
       "<p>5 rows × 99 columns</p>\n",
       "</div>"
      ],
      "text/plain": [
       "       Accident_Index  Location_Easting_OSGR  Location_Northing_OSGR  \\\n",
       "165147  201401XH30511               508860.0                181840.0   \n",
       "144365  201301VW40169               524400.0                169350.0   \n",
       "202730  201601WW50530               527740.0                175760.0   \n",
       "86315   201001PY20051               541670.0                169330.0   \n",
       "1126    200501HT20410               535000.0                181280.0   \n",
       "\n",
       "        Longitude   Latitude  Police_Force  Accident_Severity  \\\n",
       "165147  -0.432223  51.524939             1                  3   \n",
       "144365  -0.212720  51.409481             1                  3   \n",
       "202730  -0.162412  51.466347             1                  3   \n",
       "86315    0.035430  51.405253             1                  3   \n",
       "1126    -0.055847  51.514268             1                  3   \n",
       "\n",
       "        Number_of_Vehicles  Number_of_Casualties        Date  ...  \\\n",
       "165147                   2                     1  2014-08-22  ...   \n",
       "144365                   2                     1  2013-05-20  ...   \n",
       "202730                   2                     1  2016-05-07  ...   \n",
       "86315                    2                     1  2010-01-02  ...   \n",
       "1126                     2                     1  2005-06-06  ...   \n",
       "\n",
       "        aadf_CLT_BBYPAS aadf_CLT_PARKR  aadf_CLT_WATERR aadf_CLT_PTIME  \\\n",
       "165147            False          False            False          False   \n",
       "144365            False          False            False          False   \n",
       "202730            False          False            False          False   \n",
       "86315             False          False            False          False   \n",
       "1126              False          False            False           True   \n",
       "\n",
       "        aadf_CLT_ACCESS                                    aadf_CLT_COLOUR  \\\n",
       "165147              NaN                       [['NONE', 'GREEN', 'GREEN']]   \n",
       "144365              NaN                         [['NONE', 'NONE', 'NONE']]   \n",
       "202730              NaN                                               [[]]   \n",
       "86315               NaN                                               [[]]   \n",
       "1126                NaN  [['NONE', 'NONE', 'NONE', 'NONE', 'NONE', 'NON...   \n",
       "\n",
       "                                             aadf_BOROUGH  distance_to_cp  \\\n",
       "165147       [['Hillingdon', 'Hillingdon', 'Hillingdon']]        0.754667   \n",
       "144365                   [['Merton', 'Merton', 'Merton']]        0.312611   \n",
       "202730                                               [[]]        0.159057   \n",
       "86315                                                [[]]        1.504347   \n",
       "1126    [['Tower Hamlets', 'Tower Hamlets', 'Tower Ham...        0.061003   \n",
       "\n",
       "        match  bikelane  \n",
       "165147   True      True  \n",
       "144365   True      True  \n",
       "202730   True      True  \n",
       "86315    True      True  \n",
       "1126     True      True  \n",
       "\n",
       "[5 rows x 99 columns]"
      ]
     },
     "execution_count": 69,
     "metadata": {},
     "output_type": "execute_result"
    }
   ],
   "source": [
    "Inolane = np.ones(data.shape[0]).astype(bool)\n",
    "for feature in bike_features:\n",
    "    Inolane &= (data[feature].values == False)\n",
    "    \n",
    "data['bikelane'] = ~Inolane\n",
    "\n",
    "data.sample(5)"
   ]
  },
  {
   "cell_type": "code",
   "execution_count": 70,
   "id": "143ff4b5",
   "metadata": {},
   "outputs": [
    {
     "data": {
      "text/plain": [
       "True    37044\n",
       "Name: bikelane, dtype: int64"
      ]
     },
     "execution_count": 70,
     "metadata": {},
     "output_type": "execute_result"
    }
   ],
   "source": [
    "data.bikelane.value_counts()"
   ]
  },
  {
   "cell_type": "code",
   "execution_count": 59,
   "id": "fb328d1a",
   "metadata": {},
   "outputs": [
    {
     "data": {
      "text/plain": [
       "aadf_FEATURE_ID     True\n",
       "aadf_SVDATE         True\n",
       "aadf_CLT_CARR       True\n",
       "aadf_CLT_SEGREG     True\n",
       "aadf_CLT_STEPP      True\n",
       "aadf_CLT_PARSEG     True\n",
       "aadf_CLT_SHARED     True\n",
       "aadf_CLT_MANDAT     True\n",
       "aadf_CLT_ADVIS      True\n",
       "aadf_CLT_PRIORI     True\n",
       "aadf_CLT_CONTRA     True\n",
       "aadf_CLT_BIDIRE     True\n",
       "aadf_CLT_CBYPAS     True\n",
       "aadf_CLT_BBYPAS     True\n",
       "aadf_CLT_PARKR      True\n",
       "aadf_CLT_WATERR     True\n",
       "aadf_CLT_PTIME      True\n",
       "aadf_CLT_ACCESS    False\n",
       "aadf_CLT_COLOUR     True\n",
       "aadf_BOROUGH        True\n",
       "dtype: bool"
      ]
     },
     "execution_count": 59,
     "metadata": {},
     "output_type": "execute_result"
    }
   ],
   "source": [
    "data[bike_features].any()"
   ]
  },
  {
   "cell_type": "code",
   "execution_count": 53,
   "id": "50befb13",
   "metadata": {},
   "outputs": [],
   "source": [
    "## Identify potential regression columns\n",
    "reg_features = ['Longitude', 'Latitude', 'Day_of_Week',\n",
    "                    'Time', 'Road_Type', 'Speed_limit',\n",
    "                    'Light_Conditions', 'Weather_Conditions', 'Road_Surface_Conditions',\n",
    "                    'Special_Conditions_at_Site', 'Carriageway_Hazards', 'Urban_or_Rural_Area',\n",
    "                    'aadf_Year', 'aadf_Pedal_cycles', 'aadf_All_motor_vehicles',\n",
    "                    'aadf_CLT_CARR', 'aadf_CLT_SEGREG', 'aadf_CLT_STEPP', \n",
    "                    'aadf_CLT_PARSEG', 'aadf_CLT_SHARED', 'aadf_CLT_MANDAT',\n",
    "                    'aadf_CLT_ADVIS', 'aadf_CLT_PRIORI', 'aadf_CLT_CONTRA', \n",
    "                    'aadf_CLT_BIDIRE', 'aadf_CLT_CBYPAS', 'aadf_CLT_BBYPAS', \n",
    "                    'aadf_CLT_PARKR', 'aadf_CLT_WATERR', 'aadf_CLT_PTIME', \n",
    "                    'aadf_CLT_ACCESS', 'distance_to_cp']\n",
    "\n",
    "class_col = 'Accident_Severity'"
   ]
  },
  {
   "cell_type": "code",
   "execution_count": 46,
   "id": "02b564f9",
   "metadata": {},
   "outputs": [],
   "source": [
    "## import StandardScaler\n",
    "from sklearn.preprocessing import StandardScaler"
   ]
  },
  {
   "cell_type": "code",
   "execution_count": null,
   "id": "f4e17ccc",
   "metadata": {},
   "outputs": [],
   "source": [
    "## Make a scaler object\n",
    "scaler = StandardScaler()\n",
    "\n",
    "## fit the scaler\n",
    "scaler.fit(X)"
   ]
  },
  {
   "cell_type": "code",
   "execution_count": null,
   "id": "73ef94b8",
   "metadata": {},
   "outputs": [],
   "source": [
    "#Time column has some nans in it, must drop those entries\n",
    "\n",
    "def is_str(x):\n",
    "    Nx = len(x)\n",
    "    I = np.ones(Nx).astype(bool)\n",
    "    for ii in range(Nx):\n",
    "        if type(x[ii]) != str:\n",
    "            I[ii] = False\n",
    "    return I\n",
    "\n",
    "#make hour, year and month columns\n",
    "#hour will be rounded \n",
    "\n",
    "def get_hour(T):\n",
    "    Nt = len(T)\n",
    "    H = np.zeros(Nt).astype(int)\n",
    "    for ii in range(Nt):\n",
    "        s = T[ii].split(':')\n",
    "        h = int(s[0])\n",
    "        m = int(s[1])\n",
    "        if m > 30:\n",
    "            h += 1\n",
    "        H[ii] = h % 24\n",
    "    return H\n",
    "\n",
    "def get_ymd(D):\n",
    "    Nd = len(D)\n",
    "    ymd = np.zeros((Nd,3)).astype(int)\n",
    "    for ii in range(Nd):\n",
    "        s = D[ii].split('-')\n",
    "        for nn in range(3):\n",
    "            ymd[ii,nn] = int(s[nn])\n",
    "    return ymd\n",
    "\n",
    "def reformat_aadf_year(Year):\n",
    "    Ny = len(Year)\n",
    "    y = np.zeros(Ny).astype(int)\n",
    "    for ii in range(Ny):\n",
    "        y[ii] = int(Year[ii].split('-')[0])\n",
    "    return y"
   ]
  },
  {
   "cell_type": "code",
   "execution_count": null,
   "id": "a8b1d1eb",
   "metadata": {},
   "outputs": [],
   "source": [
    "df = df.loc[is_str(df.Time.values),:]\n",
    "df.aadf_Count_point_id = df.aadf_Count_point_id.values.astype(int)\n",
    "\n",
    "df[['y','m','d']] = get_ymd(df.Date.values)\n",
    "df['h'] = get_hour(df.Time.values)\n",
    "#df['aadf_Year'] = reformat_aadf_year(df.aadf_Year.values)"
   ]
  },
  {
   "cell_type": "markdown",
   "id": "830b3003",
   "metadata": {},
   "source": [
    "##### 1. Logistic regression"
   ]
  },
  {
   "cell_type": "code",
   "execution_count": 11,
   "id": "3c990c38",
   "metadata": {},
   "outputs": [],
   "source": [
    "from sklearn.linear_model import LogisticRegression"
   ]
  },
  {
   "cell_type": "code",
   "execution_count": 51,
   "id": "f5bc5af2",
   "metadata": {},
   "outputs": [],
   "source": [
    "features = ['Longitude', 'Latitude', 'Speed_limit', 'Light_Conditions', 'Weather_Conditions', 'Road_Surface_Conditions', 'Special_Conditions_at_Site', 'Urban_or_Rural_Area', 'aadf_All_motor_vehicles']"
   ]
  },
  {
   "cell_type": "code",
   "execution_count": 52,
   "id": "db98d9be",
   "metadata": {},
   "outputs": [],
   "source": [
    "log_reg = LogisticRegression(penalty='none', multi_class='multinomial', max_iter=100000)"
   ]
  },
  {
   "cell_type": "code",
   "execution_count": 67,
   "id": "5e8f6a40",
   "metadata": {},
   "outputs": [
    {
     "data": {
      "text/html": [
       "<div>\n",
       "<style scoped>\n",
       "    .dataframe tbody tr th:only-of-type {\n",
       "        vertical-align: middle;\n",
       "    }\n",
       "\n",
       "    .dataframe tbody tr th {\n",
       "        vertical-align: top;\n",
       "    }\n",
       "\n",
       "    .dataframe thead th {\n",
       "        text-align: right;\n",
       "    }\n",
       "</style>\n",
       "<table border=\"1\" class=\"dataframe\">\n",
       "  <thead>\n",
       "    <tr style=\"text-align: right;\">\n",
       "      <th></th>\n",
       "      <th>Longitude</th>\n",
       "      <th>Latitude</th>\n",
       "      <th>Speed_limit</th>\n",
       "      <th>Light_Conditions</th>\n",
       "      <th>Weather_Conditions</th>\n",
       "      <th>Road_Surface_Conditions</th>\n",
       "      <th>Special_Conditions_at_Site</th>\n",
       "      <th>Urban_or_Rural_Area</th>\n",
       "      <th>aadf_All_motor_vehicles</th>\n",
       "    </tr>\n",
       "  </thead>\n",
       "  <tbody>\n",
       "    <tr>\n",
       "      <th>235864</th>\n",
       "      <td>-0.315662</td>\n",
       "      <td>51.511418</td>\n",
       "      <td>30.0</td>\n",
       "      <td>1</td>\n",
       "      <td>1</td>\n",
       "      <td>1</td>\n",
       "      <td>0</td>\n",
       "      <td>1</td>\n",
       "      <td>18734.0</td>\n",
       "    </tr>\n",
       "    <tr>\n",
       "      <th>220750</th>\n",
       "      <td>-0.077957</td>\n",
       "      <td>51.509382</td>\n",
       "      <td>20.0</td>\n",
       "      <td>4</td>\n",
       "      <td>1</td>\n",
       "      <td>1</td>\n",
       "      <td>0</td>\n",
       "      <td>1</td>\n",
       "      <td>29645.0</td>\n",
       "    </tr>\n",
       "    <tr>\n",
       "      <th>186106</th>\n",
       "      <td>-0.413677</td>\n",
       "      <td>51.519797</td>\n",
       "      <td>30.0</td>\n",
       "      <td>1</td>\n",
       "      <td>1</td>\n",
       "      <td>1</td>\n",
       "      <td>0</td>\n",
       "      <td>1</td>\n",
       "      <td>29720.0</td>\n",
       "    </tr>\n",
       "    <tr>\n",
       "      <th>101785</th>\n",
       "      <td>-0.126706</td>\n",
       "      <td>51.504990</td>\n",
       "      <td>30.0</td>\n",
       "      <td>1</td>\n",
       "      <td>1</td>\n",
       "      <td>1</td>\n",
       "      <td>0</td>\n",
       "      <td>1</td>\n",
       "      <td>22970.0</td>\n",
       "    </tr>\n",
       "    <tr>\n",
       "      <th>186063</th>\n",
       "      <td>-0.450573</td>\n",
       "      <td>51.511388</td>\n",
       "      <td>30.0</td>\n",
       "      <td>1</td>\n",
       "      <td>1</td>\n",
       "      <td>1</td>\n",
       "      <td>0</td>\n",
       "      <td>1</td>\n",
       "      <td>14766.0</td>\n",
       "    </tr>\n",
       "  </tbody>\n",
       "</table>\n",
       "</div>"
      ],
      "text/plain": [
       "        Longitude   Latitude  Speed_limit  Light_Conditions  \\\n",
       "235864  -0.315662  51.511418         30.0                 1   \n",
       "220750  -0.077957  51.509382         20.0                 4   \n",
       "186106  -0.413677  51.519797         30.0                 1   \n",
       "101785  -0.126706  51.504990         30.0                 1   \n",
       "186063  -0.450573  51.511388         30.0                 1   \n",
       "\n",
       "        Weather_Conditions  Road_Surface_Conditions  \\\n",
       "235864                   1                        1   \n",
       "220750                   1                        1   \n",
       "186106                   1                        1   \n",
       "101785                   1                        1   \n",
       "186063                   1                        1   \n",
       "\n",
       "        Special_Conditions_at_Site  Urban_or_Rural_Area  \\\n",
       "235864                           0                    1   \n",
       "220750                           0                    1   \n",
       "186106                           0                    1   \n",
       "101785                           0                    1   \n",
       "186063                           0                    1   \n",
       "\n",
       "        aadf_All_motor_vehicles  \n",
       "235864                  18734.0  \n",
       "220750                  29645.0  \n",
       "186106                  29720.0  \n",
       "101785                  22970.0  \n",
       "186063                  14766.0  "
      ]
     },
     "execution_count": 67,
     "metadata": {},
     "output_type": "execute_result"
    }
   ],
   "source": [
    "log_reg.fit(data[features], data.Accident_Severity)\n",
    "data[features].sample(5)"
   ]
  },
  {
   "cell_type": "code",
   "execution_count": 68,
   "id": "ba12894a",
   "metadata": {},
   "outputs": [
    {
     "data": {
      "text/plain": [
       "array([3, 3, 3, ..., 3, 3, 3])"
      ]
     },
     "execution_count": 68,
     "metadata": {},
     "output_type": "execute_result"
    }
   ],
   "source": [
    "log_reg.predict(data[features])"
   ]
  },
  {
   "cell_type": "code",
   "execution_count": 69,
   "id": "7ed82ced",
   "metadata": {},
   "outputs": [
    {
     "data": {
      "text/plain": [
       "array([3])"
      ]
     },
     "execution_count": 69,
     "metadata": {},
     "output_type": "execute_result"
    }
   ],
   "source": [
    "np.unique(log_reg.predict(data[features]))"
   ]
  },
  {
   "cell_type": "code",
   "execution_count": 70,
   "id": "fe3a9c0c",
   "metadata": {},
   "outputs": [
    {
     "data": {
      "text/plain": [
       "array([3, 3, 3, ..., 3, 2, 2])"
      ]
     },
     "execution_count": 70,
     "metadata": {},
     "output_type": "execute_result"
    }
   ],
   "source": [
    "data.Accident_Severity.values"
   ]
  },
  {
   "cell_type": "code",
   "execution_count": 41,
   "id": "7be27b01",
   "metadata": {},
   "outputs": [],
   "source": [
    "from sklearn.metrics import accuracy_score"
   ]
  },
  {
   "cell_type": "code",
   "execution_count": 71,
   "id": "719f4c76",
   "metadata": {},
   "outputs": [
    {
     "data": {
      "text/plain": [
       "0.8683187560738581"
      ]
     },
     "execution_count": 71,
     "metadata": {},
     "output_type": "execute_result"
    }
   ],
   "source": [
    "accuracy_score(data.Accident_Severity, log_reg.predict(data[features]))"
   ]
  },
  {
   "cell_type": "markdown",
   "id": "bbb1d7cd",
   "metadata": {},
   "source": [
    "##### 2. GridSearchCV"
   ]
  },
  {
   "cell_type": "code",
   "execution_count": 31,
   "id": "60e8e446",
   "metadata": {},
   "outputs": [],
   "source": [
    "from sklearn.ensemble import RandomForestClassifier\n",
    "from sklearn.model_selection import GridSearchCV"
   ]
  },
  {
   "cell_type": "code",
   "execution_count": 32,
   "id": "0e83d8eb",
   "metadata": {},
   "outputs": [],
   "source": [
    "max_depths = range(1, 11)\n",
    "n_trees = [100, 500]"
   ]
  },
  {
   "cell_type": "code",
   "execution_count": 57,
   "id": "3df75049",
   "metadata": {},
   "outputs": [],
   "source": [
    "grid_cv = GridSearchCV(RandomForestClassifier(), # first put the model object here\n",
    "                          param_grid = {'max_depth':max_depths, # place the grid values for max_depth and\n",
    "                                        'n_estimators':n_trees}, # and n_estimators here\n",
    "                          scoring = \"accuracy\", # put the metric we are trying to optimize here as a string, \"accuracy\"\n",
    "                          cv = 10)"
   ]
  },
  {
   "cell_type": "code",
   "execution_count": 58,
   "id": "58475d66",
   "metadata": {},
   "outputs": [
    {
     "data": {
      "text/html": [
       "<style>#sk-container-id-4 {color: black;background-color: white;}#sk-container-id-4 pre{padding: 0;}#sk-container-id-4 div.sk-toggleable {background-color: white;}#sk-container-id-4 label.sk-toggleable__label {cursor: pointer;display: block;width: 100%;margin-bottom: 0;padding: 0.3em;box-sizing: border-box;text-align: center;}#sk-container-id-4 label.sk-toggleable__label-arrow:before {content: \"▸\";float: left;margin-right: 0.25em;color: #696969;}#sk-container-id-4 label.sk-toggleable__label-arrow:hover:before {color: black;}#sk-container-id-4 div.sk-estimator:hover label.sk-toggleable__label-arrow:before {color: black;}#sk-container-id-4 div.sk-toggleable__content {max-height: 0;max-width: 0;overflow: hidden;text-align: left;background-color: #f0f8ff;}#sk-container-id-4 div.sk-toggleable__content pre {margin: 0.2em;color: black;border-radius: 0.25em;background-color: #f0f8ff;}#sk-container-id-4 input.sk-toggleable__control:checked~div.sk-toggleable__content {max-height: 200px;max-width: 100%;overflow: auto;}#sk-container-id-4 input.sk-toggleable__control:checked~label.sk-toggleable__label-arrow:before {content: \"▾\";}#sk-container-id-4 div.sk-estimator input.sk-toggleable__control:checked~label.sk-toggleable__label {background-color: #d4ebff;}#sk-container-id-4 div.sk-label input.sk-toggleable__control:checked~label.sk-toggleable__label {background-color: #d4ebff;}#sk-container-id-4 input.sk-hidden--visually {border: 0;clip: rect(1px 1px 1px 1px);clip: rect(1px, 1px, 1px, 1px);height: 1px;margin: -1px;overflow: hidden;padding: 0;position: absolute;width: 1px;}#sk-container-id-4 div.sk-estimator {font-family: monospace;background-color: #f0f8ff;border: 1px dotted black;border-radius: 0.25em;box-sizing: border-box;margin-bottom: 0.5em;}#sk-container-id-4 div.sk-estimator:hover {background-color: #d4ebff;}#sk-container-id-4 div.sk-parallel-item::after {content: \"\";width: 100%;border-bottom: 1px solid gray;flex-grow: 1;}#sk-container-id-4 div.sk-label:hover label.sk-toggleable__label {background-color: #d4ebff;}#sk-container-id-4 div.sk-serial::before {content: \"\";position: absolute;border-left: 1px solid gray;box-sizing: border-box;top: 0;bottom: 0;left: 50%;z-index: 0;}#sk-container-id-4 div.sk-serial {display: flex;flex-direction: column;align-items: center;background-color: white;padding-right: 0.2em;padding-left: 0.2em;position: relative;}#sk-container-id-4 div.sk-item {position: relative;z-index: 1;}#sk-container-id-4 div.sk-parallel {display: flex;align-items: stretch;justify-content: center;background-color: white;position: relative;}#sk-container-id-4 div.sk-item::before, #sk-container-id-4 div.sk-parallel-item::before {content: \"\";position: absolute;border-left: 1px solid gray;box-sizing: border-box;top: 0;bottom: 0;left: 50%;z-index: -1;}#sk-container-id-4 div.sk-parallel-item {display: flex;flex-direction: column;z-index: 1;position: relative;background-color: white;}#sk-container-id-4 div.sk-parallel-item:first-child::after {align-self: flex-end;width: 50%;}#sk-container-id-4 div.sk-parallel-item:last-child::after {align-self: flex-start;width: 50%;}#sk-container-id-4 div.sk-parallel-item:only-child::after {width: 0;}#sk-container-id-4 div.sk-dashed-wrapped {border: 1px dashed gray;margin: 0 0.4em 0.5em 0.4em;box-sizing: border-box;padding-bottom: 0.4em;background-color: white;}#sk-container-id-4 div.sk-label label {font-family: monospace;font-weight: bold;display: inline-block;line-height: 1.2em;}#sk-container-id-4 div.sk-label-container {text-align: center;}#sk-container-id-4 div.sk-container {/* jupyter's `normalize.less` sets `[hidden] { display: none; }` but bootstrap.min.css set `[hidden] { display: none !important; }` so we also need the `!important` here to be able to override the default hidden behavior on the sphinx rendered scikit-learn.org. See: https://github.com/scikit-learn/scikit-learn/issues/21755 */display: inline-block !important;position: relative;}#sk-container-id-4 div.sk-text-repr-fallback {display: none;}</style><div id=\"sk-container-id-4\" class=\"sk-top-container\"><div class=\"sk-text-repr-fallback\"><pre>GridSearchCV(cv=10, estimator=RandomForestClassifier(),\n",
       "             param_grid={&#x27;max_depth&#x27;: range(1, 11), &#x27;n_estimators&#x27;: [100, 500]},\n",
       "             scoring=&#x27;accuracy&#x27;)</pre><b>In a Jupyter environment, please rerun this cell to show the HTML representation or trust the notebook. <br />On GitHub, the HTML representation is unable to render, please try loading this page with nbviewer.org.</b></div><div class=\"sk-container\" hidden><div class=\"sk-item sk-dashed-wrapped\"><div class=\"sk-label-container\"><div class=\"sk-label sk-toggleable\"><input class=\"sk-toggleable__control sk-hidden--visually\" id=\"sk-estimator-id-6\" type=\"checkbox\" ><label for=\"sk-estimator-id-6\" class=\"sk-toggleable__label sk-toggleable__label-arrow\">GridSearchCV</label><div class=\"sk-toggleable__content\"><pre>GridSearchCV(cv=10, estimator=RandomForestClassifier(),\n",
       "             param_grid={&#x27;max_depth&#x27;: range(1, 11), &#x27;n_estimators&#x27;: [100, 500]},\n",
       "             scoring=&#x27;accuracy&#x27;)</pre></div></div></div><div class=\"sk-parallel\"><div class=\"sk-parallel-item\"><div class=\"sk-item\"><div class=\"sk-label-container\"><div class=\"sk-label sk-toggleable\"><input class=\"sk-toggleable__control sk-hidden--visually\" id=\"sk-estimator-id-7\" type=\"checkbox\" ><label for=\"sk-estimator-id-7\" class=\"sk-toggleable__label sk-toggleable__label-arrow\">estimator: RandomForestClassifier</label><div class=\"sk-toggleable__content\"><pre>RandomForestClassifier()</pre></div></div></div><div class=\"sk-serial\"><div class=\"sk-item\"><div class=\"sk-estimator sk-toggleable\"><input class=\"sk-toggleable__control sk-hidden--visually\" id=\"sk-estimator-id-8\" type=\"checkbox\" ><label for=\"sk-estimator-id-8\" class=\"sk-toggleable__label sk-toggleable__label-arrow\">RandomForestClassifier</label><div class=\"sk-toggleable__content\"><pre>RandomForestClassifier()</pre></div></div></div></div></div></div></div></div></div></div>"
      ],
      "text/plain": [
       "GridSearchCV(cv=10, estimator=RandomForestClassifier(),\n",
       "             param_grid={'max_depth': range(1, 11), 'n_estimators': [100, 500]},\n",
       "             scoring='accuracy')"
      ]
     },
     "execution_count": 58,
     "metadata": {},
     "output_type": "execute_result"
    }
   ],
   "source": [
    "grid_cv.fit(data[features], data.Accident_Severity)"
   ]
  },
  {
   "cell_type": "code",
   "execution_count": 59,
   "id": "124054c5",
   "metadata": {},
   "outputs": [
    {
     "data": {
      "text/html": [
       "<div>\n",
       "<style scoped>\n",
       "    .dataframe tbody tr th:only-of-type {\n",
       "        vertical-align: middle;\n",
       "    }\n",
       "\n",
       "    .dataframe tbody tr th {\n",
       "        vertical-align: top;\n",
       "    }\n",
       "\n",
       "    .dataframe thead th {\n",
       "        text-align: right;\n",
       "    }\n",
       "</style>\n",
       "<table border=\"1\" class=\"dataframe\">\n",
       "  <thead>\n",
       "    <tr style=\"text-align: right;\">\n",
       "      <th></th>\n",
       "      <th>feature</th>\n",
       "      <th>importance_score</th>\n",
       "    </tr>\n",
       "  </thead>\n",
       "  <tbody>\n",
       "    <tr>\n",
       "      <th>1</th>\n",
       "      <td>Latitude</td>\n",
       "      <td>0.242688</td>\n",
       "    </tr>\n",
       "    <tr>\n",
       "      <th>0</th>\n",
       "      <td>Longitude</td>\n",
       "      <td>0.232319</td>\n",
       "    </tr>\n",
       "    <tr>\n",
       "      <th>8</th>\n",
       "      <td>aadf_All_motor_vehicles</td>\n",
       "      <td>0.216169</td>\n",
       "    </tr>\n",
       "    <tr>\n",
       "      <th>2</th>\n",
       "      <td>Speed_limit</td>\n",
       "      <td>0.085156</td>\n",
       "    </tr>\n",
       "    <tr>\n",
       "      <th>6</th>\n",
       "      <td>Special_Conditions_at_Site</td>\n",
       "      <td>0.064230</td>\n",
       "    </tr>\n",
       "    <tr>\n",
       "      <th>3</th>\n",
       "      <td>Light_Conditions</td>\n",
       "      <td>0.053382</td>\n",
       "    </tr>\n",
       "    <tr>\n",
       "      <th>4</th>\n",
       "      <td>Weather_Conditions</td>\n",
       "      <td>0.036874</td>\n",
       "    </tr>\n",
       "    <tr>\n",
       "      <th>5</th>\n",
       "      <td>Road_Surface_Conditions</td>\n",
       "      <td>0.035159</td>\n",
       "    </tr>\n",
       "    <tr>\n",
       "      <th>7</th>\n",
       "      <td>Urban_or_Rural_Area</td>\n",
       "      <td>0.034022</td>\n",
       "    </tr>\n",
       "  </tbody>\n",
       "</table>\n",
       "</div>"
      ],
      "text/plain": [
       "                      feature  importance_score\n",
       "1                    Latitude          0.242688\n",
       "0                   Longitude          0.232319\n",
       "8     aadf_All_motor_vehicles          0.216169\n",
       "2                 Speed_limit          0.085156\n",
       "6  Special_Conditions_at_Site          0.064230\n",
       "3            Light_Conditions          0.053382\n",
       "4          Weather_Conditions          0.036874\n",
       "5     Road_Surface_Conditions          0.035159\n",
       "7         Urban_or_Rural_Area          0.034022"
      ]
     },
     "execution_count": 59,
     "metadata": {},
     "output_type": "execute_result"
    }
   ],
   "source": [
    "score_df = pd.DataFrame({'feature':features,\n",
    "                            'importance_score': grid_cv.best_estimator_.feature_importances_})\n",
    "\n",
    "score_df.sort_values('importance_score',ascending=False)"
   ]
  },
  {
   "cell_type": "code",
   "execution_count": 60,
   "id": "effe934b",
   "metadata": {},
   "outputs": [
    {
     "data": {
      "text/plain": [
       "{'max_depth': 7, 'n_estimators': 100}"
      ]
     },
     "execution_count": 60,
     "metadata": {},
     "output_type": "execute_result"
    }
   ],
   "source": [
    "grid_cv.best_params_"
   ]
  },
  {
   "cell_type": "code",
   "execution_count": 61,
   "id": "3666bb2d",
   "metadata": {},
   "outputs": [
    {
     "data": {
      "text/plain": [
       "0.8683457574406193"
      ]
     },
     "execution_count": 61,
     "metadata": {},
     "output_type": "execute_result"
    }
   ],
   "source": [
    "grid_cv.best_score_"
   ]
  },
  {
   "cell_type": "code",
   "execution_count": 63,
   "id": "fb764389",
   "metadata": {},
   "outputs": [
    {
     "data": {
      "text/plain": [
       "array([3, 3, 3, ..., 3, 3, 3])"
      ]
     },
     "execution_count": 63,
     "metadata": {},
     "output_type": "execute_result"
    }
   ],
   "source": [
    "grid_cv.best_estimator_.predict(data[features])"
   ]
  },
  {
   "cell_type": "code",
   "execution_count": 65,
   "id": "ec0e3111",
   "metadata": {},
   "outputs": [
    {
     "data": {
      "text/plain": [
       "array([2, 3])"
      ]
     },
     "execution_count": 65,
     "metadata": {},
     "output_type": "execute_result"
    }
   ],
   "source": [
    "np.unique(grid_cv.best_estimator_.predict(data[features]))"
   ]
  }
 ],
 "metadata": {
  "kernelspec": {
   "display_name": "Python 3 (ipykernel)",
   "language": "python",
   "name": "python3"
  },
  "language_info": {
   "codemirror_mode": {
    "name": "ipython",
    "version": 3
   },
   "file_extension": ".py",
   "mimetype": "text/x-python",
   "name": "python",
   "nbconvert_exporter": "python",
   "pygments_lexer": "ipython3",
   "version": "3.10.6"
  }
 },
 "nbformat": 4,
 "nbformat_minor": 5
}
