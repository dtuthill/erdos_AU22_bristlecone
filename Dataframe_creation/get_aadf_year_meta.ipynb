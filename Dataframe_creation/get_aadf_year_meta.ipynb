{
 "cells": [
  {
   "cell_type": "code",
   "execution_count": 1,
   "metadata": {},
   "outputs": [],
   "source": [
    "import numpy as np\n",
    "import pandas as pd\n",
    "import matplotlib.pyplot as plt"
   ]
  },
  {
   "cell_type": "markdown",
   "metadata": {},
   "source": [
    "### Year Availability Metdata\n",
    "- traffic counter entries in aadf dataset have differing survey year availability\n",
    "- this metadata is needed to ensure survey years span those in the accident dataset\n",
    "- this notebook make a dataframe of the aadf traffic counter survey year metadata\n",
    "- this metadata will be merged into the \"df_road\" dataframe built by BuildRoadDataframe_v3p1.ipynb\n",
    "- the user must have imported dft_traffic_counts_aadf.csv to run this notebook (the resulting dataframe is, however, included in the repository)"
   ]
  },
  {
   "cell_type": "code",
   "execution_count": 2,
   "metadata": {},
   "outputs": [],
   "source": [
    "######THE USER MUST IMPORT THE BELOW FILE THEMSELVES, SEE README###########\n",
    "path = 'dft_traffic_counts_aadf.csv'\n",
    "df = pd.read_csv(path,low_memory=False)"
   ]
  },
  {
   "cell_type": "code",
   "execution_count": 9,
   "metadata": {},
   "outputs": [
    {
     "name": "stdout",
     "output_type": "stream",
     "text": [
      "20000 of  45576one\n",
      "40000 of  45576one\n"
     ]
    }
   ],
   "source": [
    "IDs = np.unique(df.Count_point_id.values)\n",
    "Nid = len(IDs)\n",
    "\n",
    "YearAvail = [None]*Nid\n",
    "NYear = np.zeros(Nid).astype(int)\n",
    "update = 20e3\n",
    "for ii,ID in enumerate(IDs):\n",
    "    I = df.Count_point_id == ID\n",
    "    YearAvail[ii] = np.sort(np.unique(df.loc[I,'Year'].values))\n",
    "    NYear[ii] = len(YearAvail[ii])\n",
    "    if (ii+1)%update == 0:\n",
    "        print('%i of % done'%(ii+1,Nid))"
   ]
  },
  {
   "cell_type": "code",
   "execution_count": 10,
   "metadata": {},
   "outputs": [],
   "source": [
    "#detect if there are any gaps in coverage\n",
    "gaps = np.ones(Nid).astype(int)\n",
    "for ii in range(Nid):\n",
    "    if NYear[ii] > 1:\n",
    "        gaps[ii] = np.diff(YearAvail[ii]).max()        "
   ]
  },
  {
   "cell_type": "code",
   "execution_count": null,
   "metadata": {},
   "outputs": [],
   "source": [
    "#extract the start year and end year\n",
    "YearStart = np.zeros(Nid).astype(int)\n",
    "YearEnd = np.zeros(Nid).astype(int)\n",
    "for ii in range(Nid):\n",
    "    YearStart[ii] = YearAvail[ii][0]\n",
    "    YearEnd[ii] = YearAvail[ii][-1]"
   ]
  },
  {
   "cell_type": "markdown",
   "metadata": {},
   "source": [
    "#### Sample of metadata DataFrame"
   ]
  },
  {
   "cell_type": "code",
   "execution_count": 6,
   "metadata": {},
   "outputs": [
    {
     "data": {
      "text/html": [
       "<div>\n",
       "<style scoped>\n",
       "    .dataframe tbody tr th:only-of-type {\n",
       "        vertical-align: middle;\n",
       "    }\n",
       "\n",
       "    .dataframe tbody tr th {\n",
       "        vertical-align: top;\n",
       "    }\n",
       "\n",
       "    .dataframe thead th {\n",
       "        text-align: right;\n",
       "    }\n",
       "</style>\n",
       "<table border=\"1\" class=\"dataframe\">\n",
       "  <thead>\n",
       "    <tr style=\"text-align: right;\">\n",
       "      <th></th>\n",
       "      <th>Count_point_id</th>\n",
       "      <th>N_year</th>\n",
       "      <th>Year_start</th>\n",
       "      <th>Year_end</th>\n",
       "      <th>Max_year_gap</th>\n",
       "    </tr>\n",
       "  </thead>\n",
       "  <tbody>\n",
       "    <tr>\n",
       "      <th>6547</th>\n",
       "      <td>36082</td>\n",
       "      <td>22</td>\n",
       "      <td>2000</td>\n",
       "      <td>2021</td>\n",
       "      <td>1</td>\n",
       "    </tr>\n",
       "    <tr>\n",
       "      <th>25722</th>\n",
       "      <td>806371</td>\n",
       "      <td>3</td>\n",
       "      <td>2019</td>\n",
       "      <td>2021</td>\n",
       "      <td>1</td>\n",
       "    </tr>\n",
       "    <tr>\n",
       "      <th>43943</th>\n",
       "      <td>966072</td>\n",
       "      <td>10</td>\n",
       "      <td>2000</td>\n",
       "      <td>2009</td>\n",
       "      <td>1</td>\n",
       "    </tr>\n",
       "    <tr>\n",
       "      <th>24941</th>\n",
       "      <td>805446</td>\n",
       "      <td>2</td>\n",
       "      <td>2018</td>\n",
       "      <td>2019</td>\n",
       "      <td>1</td>\n",
       "    </tr>\n",
       "    <tr>\n",
       "      <th>28618</th>\n",
       "      <td>809610</td>\n",
       "      <td>1</td>\n",
       "      <td>2019</td>\n",
       "      <td>2019</td>\n",
       "      <td>1</td>\n",
       "    </tr>\n",
       "  </tbody>\n",
       "</table>\n",
       "</div>"
      ],
      "text/plain": [
       "       Count_point_id  N_year  Year_start  Year_end  Max_year_gap\n",
       "6547            36082      22        2000      2021             1\n",
       "25722          806371       3        2019      2021             1\n",
       "43943          966072      10        2000      2009             1\n",
       "24941          805446       2        2018      2019             1\n",
       "28618          809610       1        2019      2019             1"
      ]
     },
     "execution_count": 6,
     "metadata": {},
     "output_type": "execute_result"
    }
   ],
   "source": [
    "df.sample(5)"
   ]
  },
  {
   "cell_type": "markdown",
   "metadata": {},
   "source": [
    "#### DataFrame can be saved for later use"
   ]
  },
  {
   "cell_type": "code",
   "execution_count": 16,
   "metadata": {},
   "outputs": [],
   "source": [
    "save_path = 'Dataframes/aadf_year_meta.csv'\n",
    "df = pd.DataFrame({'Count_point_id':IDs,'N_year':NYear,'Year_start':YearStart,'Year_end':YearEnd,'Max_year_gap':gaps})\n",
    "df.to_csv(save_path,index_label=False)"
   ]
  },
  {
   "cell_type": "code",
   "execution_count": null,
   "metadata": {},
   "outputs": [],
   "source": []
  }
 ],
 "metadata": {
  "kernelspec": {
   "display_name": "Python 3 (ipykernel)",
   "language": "python",
   "name": "python3"
  },
  "language_info": {
   "codemirror_mode": {
    "name": "ipython",
    "version": 3
   },
   "file_extension": ".py",
   "mimetype": "text/x-python",
   "name": "python",
   "nbconvert_exporter": "python",
   "pygments_lexer": "ipython3",
   "version": "3.8.5"
  }
 },
 "nbformat": 4,
 "nbformat_minor": 4
}
