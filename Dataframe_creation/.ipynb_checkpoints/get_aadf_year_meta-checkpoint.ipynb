{
 "cells": [
  {
   "cell_type": "code",
   "execution_count": 1,
   "metadata": {},
   "outputs": [],
   "source": [
    "import numpy as np\n",
    "import pandas as pd\n",
    "import matplotlib.pyplot as plt"
   ]
  },
  {
   "cell_type": "markdown",
   "metadata": {},
   "source": [
    "### Year Availability Metdata\n",
    "- traffic counter entries in aadf dataset have differing survey year availability\n",
    "- this metadata is needed to ensure survey years span those in the accident dataset\n",
    "- this notebook make a dataframe of the aadf traffic counter survey year metadata\n",
    "- this metadata will be merged into the \"df_road\" dataframe built by BuildRoadDataframe_v3p1.ipynb"
   ]
  },
  {
   "cell_type": "code",
   "execution_count": 2,
   "metadata": {},
   "outputs": [],
   "source": [
    "path = 'dft_traffic_counts_aadf.csv'\n",
    "df = pd.read_csv(path,low_memory=False)"
   ]
  },
  {
   "cell_type": "code",
   "execution_count": 9,
   "metadata": {},
   "outputs": [
    {
     "name": "stdout",
     "output_type": "stream",
     "text": [
      "20000 of  45576one\n",
      "40000 of  45576one\n"
     ]
    }
   ],
   "source": [
    "IDs = np.unique(df.Count_point_id.values)\n",
    "Nid = len(IDs)\n",
    "\n",
    "YearAvail = [None]*Nid\n",
    "NYear = np.zeros(Nid).astype(int)\n",
    "update = 20e3\n",
    "for ii,ID in enumerate(IDs):\n",
    "    I = df.Count_point_id == ID\n",
    "    YearAvail[ii] = np.sort(np.unique(df.loc[I,'Year'].values))\n",
    "    NYear[ii] = len(YearAvail[ii])\n",
    "    if (ii+1)%update == 0:\n",
    "        print('%i of % done'%(ii+1,Nid))"
   ]
  },
  {
   "cell_type": "code",
   "execution_count": 10,
   "metadata": {},
   "outputs": [],
   "source": [
    "#detect if there are any gaps in coverage\n",
    "gaps = np.ones(Nid).astype(int)\n",
    "for ii in range(Nid):\n",
    "    if NYear[ii] > 1:\n",
    "        gaps[ii] = np.diff(YearAvail[ii]).max()        "
   ]
  },
  {
   "cell_type": "code",
   "execution_count": null,
   "metadata": {},
   "outputs": [],
   "source": [
    "#extract the start year and end year\n",
    "YearStart = np.zeros(Nid).astype(int)\n",
    "YearEnd = np.zeros(Nid).astype(int)\n",
    "for ii in range(Nid):\n",
    "    YearStart[ii] = YearAvail[ii][0]\n",
    "    YearEnd[ii] = YearAvail[ii][-1]"
   ]
  },
  {
   "cell_type": "markdown",
   "metadata": {},
   "source": [
    "#### Sample of metadata DataFrame"
   ]
  },
  {
   "cell_type": "code",
   "execution_count": null,
   "metadata": {},
   "outputs": [],
   "source": [
    "df.sample(5)"
   ]
  },
  {
   "cell_type": "markdown",
   "metadata": {},
   "source": [
    "#### DataFrame can be saved for later use"
   ]
  },
  {
   "cell_type": "code",
   "execution_count": 16,
   "metadata": {},
   "outputs": [],
   "source": [
    "save_path = 'aadf_year_meta.csv'\n",
    "df = pd.DataFrame({'Count_point_id':IDs,'N_year':NYear,'Year_start':YearStart,'Year_end':YearEnd,'Max_year_gap':gaps})\n",
    "df.to_csv(save_path,index_label=False)"
   ]
  },
  {
   "cell_type": "code",
   "execution_count": null,
   "metadata": {},
   "outputs": [],
   "source": []
  }
 ],
 "metadata": {
  "kernelspec": {
   "display_name": "Python 3",
   "language": "python",
   "name": "python3"
  },
  "language_info": {
   "codemirror_mode": {
    "name": "ipython",
    "version": 3
   },
   "file_extension": ".py",
   "mimetype": "text/x-python",
   "name": "python",
   "nbconvert_exporter": "python",
   "pygments_lexer": "ipython3",
   "version": "3.9.0"
  }
 },
 "nbformat": 4,
 "nbformat_minor": 4
}
